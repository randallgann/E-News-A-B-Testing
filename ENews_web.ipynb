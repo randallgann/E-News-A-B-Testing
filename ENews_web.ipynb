{
 "cells": [
  {
   "cell_type": "markdown",
   "id": "8e546484",
   "metadata": {},
   "source": [
    "### Statistical Analysis of Business Data\n",
    " - Dataset provided by PGP-DSBA-UTA-SEP21-D\n",
    " - Code & Analysis - Randall Gann\n"
   ]
  },
  {
   "cell_type": "markdown",
   "id": "045d5dba",
   "metadata": {
    "id": "a6a3d218"
   },
   "source": [
    "## Import all the necessary libraries"
   ]
  },
  {
   "cell_type": "code",
   "execution_count": 1,
   "id": "69348dc5",
   "metadata": {
    "id": "658c5dec"
   },
   "outputs": [],
   "source": [
    "import numpy as np\n",
    "import pandas as pd\n",
    "from matplotlib import pyplot as plt\n",
    "import seaborn as sns\n",
    "sns.set_theme(style='whitegrid')\n",
    "from IPython.display import display_html"
   ]
  },
  {
   "cell_type": "markdown",
   "id": "7e79f82b",
   "metadata": {
    "id": "6970dd99"
   },
   "source": [
    "<h5 style='color:red;font-size:30px;font-family:Georgia;text-align:center;'><strong>&#128301;Explore the Data&#128301;</strong></h5>"
   ]
  },
  {
   "cell_type": "markdown",
   "id": "1f027081",
   "metadata": {
    "id": "6970dd99"
   },
   "source": [
    "### Reading the Data into a DataFrame"
   ]
  },
  {
   "cell_type": "code",
   "execution_count": 2,
   "id": "10011702",
   "metadata": {
    "id": "d3b95640"
   },
   "outputs": [
    {
     "data": {
      "text/html": [
       "<style type=\"text/css\">\n",
       "#T_a1f80_row0_col0, #T_a1f80_row0_col1, #T_a1f80_row0_col2, #T_a1f80_row0_col3, #T_a1f80_row0_col4, #T_a1f80_row0_col5, #T_a1f80_row1_col0, #T_a1f80_row1_col1, #T_a1f80_row1_col2, #T_a1f80_row1_col3, #T_a1f80_row1_col4, #T_a1f80_row1_col5, #T_a1f80_row2_col0, #T_a1f80_row2_col1, #T_a1f80_row2_col2, #T_a1f80_row2_col3, #T_a1f80_row2_col4, #T_a1f80_row2_col5, #T_a1f80_row3_col0, #T_a1f80_row3_col1, #T_a1f80_row3_col2, #T_a1f80_row3_col3, #T_a1f80_row3_col4, #T_a1f80_row3_col5, #T_a1f80_row4_col0, #T_a1f80_row4_col1, #T_a1f80_row4_col2, #T_a1f80_row4_col3, #T_a1f80_row4_col4, #T_a1f80_row4_col5 {\n",
       "  background-color: black;\n",
       "  color: white;\n",
       "  border-color: black;\n",
       "  font-size: 11.5pt;\n",
       "  width: 200;\n",
       "}\n",
       "</style>\n",
       "<table id=\"T_a1f80_\">\n",
       "  <thead>\n",
       "    <tr>\n",
       "      <th class=\"blank level0\" >&nbsp;</th>\n",
       "      <th class=\"col_heading level0 col0\" >user_id</th>\n",
       "      <th class=\"col_heading level0 col1\" >group</th>\n",
       "      <th class=\"col_heading level0 col2\" >landing_page</th>\n",
       "      <th class=\"col_heading level0 col3\" >time_spent_on_the_page</th>\n",
       "      <th class=\"col_heading level0 col4\" >converted</th>\n",
       "      <th class=\"col_heading level0 col5\" >language_preferred</th>\n",
       "    </tr>\n",
       "  </thead>\n",
       "  <tbody>\n",
       "    <tr>\n",
       "      <th id=\"T_a1f80_level0_row0\" class=\"row_heading level0 row0\" >0</th>\n",
       "      <td id=\"T_a1f80_row0_col0\" class=\"data row0 col0\" >546592</td>\n",
       "      <td id=\"T_a1f80_row0_col1\" class=\"data row0 col1\" >control</td>\n",
       "      <td id=\"T_a1f80_row0_col2\" class=\"data row0 col2\" >old</td>\n",
       "      <td id=\"T_a1f80_row0_col3\" class=\"data row0 col3\" >3.480000</td>\n",
       "      <td id=\"T_a1f80_row0_col4\" class=\"data row0 col4\" >no</td>\n",
       "      <td id=\"T_a1f80_row0_col5\" class=\"data row0 col5\" >Spanish</td>\n",
       "    </tr>\n",
       "    <tr>\n",
       "      <th id=\"T_a1f80_level0_row1\" class=\"row_heading level0 row1\" >1</th>\n",
       "      <td id=\"T_a1f80_row1_col0\" class=\"data row1 col0\" >546468</td>\n",
       "      <td id=\"T_a1f80_row1_col1\" class=\"data row1 col1\" >treatment</td>\n",
       "      <td id=\"T_a1f80_row1_col2\" class=\"data row1 col2\" >new</td>\n",
       "      <td id=\"T_a1f80_row1_col3\" class=\"data row1 col3\" >7.130000</td>\n",
       "      <td id=\"T_a1f80_row1_col4\" class=\"data row1 col4\" >yes</td>\n",
       "      <td id=\"T_a1f80_row1_col5\" class=\"data row1 col5\" >English</td>\n",
       "    </tr>\n",
       "    <tr>\n",
       "      <th id=\"T_a1f80_level0_row2\" class=\"row_heading level0 row2\" >2</th>\n",
       "      <td id=\"T_a1f80_row2_col0\" class=\"data row2 col0\" >546462</td>\n",
       "      <td id=\"T_a1f80_row2_col1\" class=\"data row2 col1\" >treatment</td>\n",
       "      <td id=\"T_a1f80_row2_col2\" class=\"data row2 col2\" >new</td>\n",
       "      <td id=\"T_a1f80_row2_col3\" class=\"data row2 col3\" >4.400000</td>\n",
       "      <td id=\"T_a1f80_row2_col4\" class=\"data row2 col4\" >no</td>\n",
       "      <td id=\"T_a1f80_row2_col5\" class=\"data row2 col5\" >Spanish</td>\n",
       "    </tr>\n",
       "    <tr>\n",
       "      <th id=\"T_a1f80_level0_row3\" class=\"row_heading level0 row3\" >3</th>\n",
       "      <td id=\"T_a1f80_row3_col0\" class=\"data row3 col0\" >546567</td>\n",
       "      <td id=\"T_a1f80_row3_col1\" class=\"data row3 col1\" >control</td>\n",
       "      <td id=\"T_a1f80_row3_col2\" class=\"data row3 col2\" >old</td>\n",
       "      <td id=\"T_a1f80_row3_col3\" class=\"data row3 col3\" >3.020000</td>\n",
       "      <td id=\"T_a1f80_row3_col4\" class=\"data row3 col4\" >no</td>\n",
       "      <td id=\"T_a1f80_row3_col5\" class=\"data row3 col5\" >French</td>\n",
       "    </tr>\n",
       "    <tr>\n",
       "      <th id=\"T_a1f80_level0_row4\" class=\"row_heading level0 row4\" >4</th>\n",
       "      <td id=\"T_a1f80_row4_col0\" class=\"data row4 col0\" >546459</td>\n",
       "      <td id=\"T_a1f80_row4_col1\" class=\"data row4 col1\" >treatment</td>\n",
       "      <td id=\"T_a1f80_row4_col2\" class=\"data row4 col2\" >new</td>\n",
       "      <td id=\"T_a1f80_row4_col3\" class=\"data row4 col3\" >4.750000</td>\n",
       "      <td id=\"T_a1f80_row4_col4\" class=\"data row4 col4\" >yes</td>\n",
       "      <td id=\"T_a1f80_row4_col5\" class=\"data row4 col5\" >Spanish</td>\n",
       "    </tr>\n",
       "  </tbody>\n",
       "</table>\n"
      ],
      "text/plain": [
       "<pandas.io.formats.style.Styler at 0x7efe9c703fd0>"
      ]
     },
     "execution_count": 2,
     "metadata": {},
     "output_type": "execute_result"
    }
   ],
   "source": [
    "# reading the dataset abtest.csv\n",
    "df = pd.read_csv('abtest.csv')\n",
    "df.head().style.set_properties(**{'background-color': 'black', 'color': 'white', 'border-color': 'black',\n",
    "                                 'font-size': '11.5pt', 'width': 200})\n"
   ]
  },
  {
   "cell_type": "code",
   "execution_count": 3,
   "id": "52b2ad1d",
   "metadata": {},
   "outputs": [
    {
     "data": {
      "text/plain": [
       "(100, 6)"
      ]
     },
     "execution_count": 3,
     "metadata": {},
     "output_type": "execute_result"
    }
   ],
   "source": [
    "# the shape of the dataset\n",
    "df.shape"
   ]
  },
  {
   "cell_type": "markdown",
   "id": "e045c016",
   "metadata": {},
   "source": [
    "- 100 rows\n",
    "- 6 columns"
   ]
  },
  {
   "cell_type": "code",
   "execution_count": 4,
   "id": "addc657f",
   "metadata": {},
   "outputs": [
    {
     "data": {
      "text/plain": [
       "2"
      ]
     },
     "execution_count": 4,
     "metadata": {},
     "output_type": "execute_result"
    }
   ],
   "source": [
    "# the dimensions of the dataset\n",
    "df.ndim"
   ]
  },
  {
   "cell_type": "code",
   "execution_count": 5,
   "id": "8e826af7",
   "metadata": {},
   "outputs": [
    {
     "data": {
      "text/plain": [
       "600"
      ]
     },
     "execution_count": 5,
     "metadata": {},
     "output_type": "execute_result"
    }
   ],
   "source": [
    "# the size of the dataset\n",
    "df.size"
   ]
  },
  {
   "cell_type": "markdown",
   "id": "6b4c8f5b",
   "metadata": {},
   "source": [
    "- 600 elements in the dataframe"
   ]
  },
  {
   "cell_type": "code",
   "execution_count": 6,
   "id": "ccd27d86",
   "metadata": {},
   "outputs": [
    {
     "data": {
      "text/plain": [
       "Index(['user_id', 'group', 'landing_page', 'time_spent_on_the_page',\n",
       "       'converted', 'language_preferred'],\n",
       "      dtype='object')"
      ]
     },
     "execution_count": 6,
     "metadata": {},
     "output_type": "execute_result"
    }
   ],
   "source": [
    "# the columns we have in the dataset\n",
    "df.columns"
   ]
  },
  {
   "cell_type": "code",
   "execution_count": 7,
   "id": "9ea704da",
   "metadata": {},
   "outputs": [],
   "source": [
    "# rename columns into more user friendly names\n",
    "feature_labels = ['User ID', 'Group', 'Landing Page', 'Time Spent On Page(Minutes)', 'Converted', 'Preferred Language']\n",
    "col_names = list(df)\n",
    "d = dict(zip(col_names, feature_labels))\n",
    "df = df.rename(columns=d)"
   ]
  },
  {
   "cell_type": "code",
   "execution_count": 8,
   "id": "21e4f494",
   "metadata": {},
   "outputs": [
    {
     "data": {
      "text/plain": [
       "User ID                          int64\n",
       "Group                           object\n",
       "Landing Page                    object\n",
       "Time Spent On Page(Minutes)    float64\n",
       "Converted                       object\n",
       "Preferred Language              object\n",
       "dtype: object"
      ]
     },
     "execution_count": 8,
     "metadata": {},
     "output_type": "execute_result"
    }
   ],
   "source": [
    "# the dtypes we have in the dataset\n",
    "df.dtypes"
   ]
  },
  {
   "cell_type": "code",
   "execution_count": 9,
   "id": "981ecc2a",
   "metadata": {},
   "outputs": [
    {
     "name": "stdout",
     "output_type": "stream",
     "text": [
      "<class 'pandas.core.frame.DataFrame'>\n",
      "RangeIndex: 100 entries, 0 to 99\n",
      "Data columns (total 6 columns):\n",
      " #   Column                       Non-Null Count  Dtype  \n",
      "---  ------                       --------------  -----  \n",
      " 0   User ID                      100 non-null    int64  \n",
      " 1   Group                        100 non-null    object \n",
      " 2   Landing Page                 100 non-null    object \n",
      " 3   Time Spent On Page(Minutes)  100 non-null    float64\n",
      " 4   Converted                    100 non-null    object \n",
      " 5   Preferred Language           100 non-null    object \n",
      "dtypes: float64(1), int64(1), object(4)\n",
      "memory usage: 4.8+ KB\n"
     ]
    }
   ],
   "source": [
    "# the info about the dataset\n",
    "df.info()"
   ]
  },
  {
   "cell_type": "markdown",
   "id": "13d82b8a",
   "metadata": {},
   "source": [
    "- group, landing page, converted, preferred language object types - we will change these below\n",
    "- user_id - int64\n",
    "- time_spent_on_page - float64"
   ]
  },
  {
   "cell_type": "code",
   "execution_count": 10,
   "id": "08429ea3",
   "metadata": {},
   "outputs": [
    {
     "data": {
      "image/png": "[encoded data removed]",
      "text/plain": [
       "<Figure size 1800x720 with 3 Axes>"
      ]
     },
     "metadata": {},
     "output_type": "display_data"
    }
   ],
   "source": [
    "# checking for missing values\n",
    "import missingno as msno\n",
    "msno.bar(df);"
   ]
  },
  {
   "cell_type": "markdown",
   "id": "9e2c1e5e",
   "metadata": {},
   "source": [
    "- no missing values"
   ]
  },
  {
   "cell_type": "code",
   "execution_count": 11,
   "id": "e8a2fcc6",
   "metadata": {},
   "outputs": [
    {
     "data": {
      "text/plain": [
       "100"
      ]
     },
     "execution_count": 11,
     "metadata": {},
     "output_type": "execute_result"
    }
   ],
   "source": [
    "# are all the user_id's unique?\n",
    "len(df['User ID'].unique())"
   ]
  },
  {
   "cell_type": "markdown",
   "id": "25de2104",
   "metadata": {},
   "source": [
    "- all observations are from unique user id's"
   ]
  },
  {
   "cell_type": "code",
   "execution_count": 12,
   "id": "02239855",
   "metadata": {
    "scrolled": true
   },
   "outputs": [
    {
     "name": "stdout",
     "output_type": "stream",
     "text": [
      "<class 'pandas.core.frame.DataFrame'>\n",
      "RangeIndex: 100 entries, 0 to 99\n",
      "Data columns (total 6 columns):\n",
      " #   Column                       Non-Null Count  Dtype   \n",
      "---  ------                       --------------  -----   \n",
      " 0   User ID                      100 non-null    int64   \n",
      " 1   Group                        100 non-null    category\n",
      " 2   Landing Page                 100 non-null    category\n",
      " 3   Time Spent On Page(Minutes)  100 non-null    float64 \n",
      " 4   Converted                    100 non-null    category\n",
      " 5   Preferred Language           100 non-null    category\n",
      "dtypes: category(4), float64(1), int64(1)\n",
      "memory usage: 2.6 KB\n"
     ]
    }
   ],
   "source": [
    "# as 'best practice' we convert the object datatypes to category\n",
    "\n",
    "# create a copy of the dataframe to preserve the original\n",
    "e_news = df.copy()\n",
    "\n",
    "e_news['Group'] = e_news['Group'].astype('category')\n",
    "e_news['Landing Page'] = e_news['Landing Page'].astype('category')\n",
    "e_news['Converted'] = e_news['Converted'].astype('category')\n",
    "e_news['Preferred Language'] = e_news['Preferred Language'].astype('category')\n",
    "e_news.info()"
   ]
  },
  {
   "cell_type": "code",
   "execution_count": 13,
   "id": "72ff9edf",
   "metadata": {},
   "outputs": [
    {
     "data": {
      "text/html": [
       "<style type=\"text/css\">\n",
       "</style>\n",
       "<table id=\"T_b1e39_\" style='display:inline'>\n",
       "  <caption>control</caption>\n",
       "  <thead>\n",
       "    <tr>\n",
       "      <th class=\"blank level0\" >&nbsp;</th>\n",
       "      <th class=\"col_heading level0 col0\" >User ID</th>\n",
       "      <th class=\"col_heading level0 col1\" >Group</th>\n",
       "      <th class=\"col_heading level0 col2\" >Landing Page</th>\n",
       "    </tr>\n",
       "  </thead>\n",
       "  <tbody>\n",
       "    <tr>\n",
       "      <th id=\"T_b1e39_level0_row0\" class=\"row_heading level0 row0\" >0</th>\n",
       "      <td id=\"T_b1e39_row0_col0\" class=\"data row0 col0\" >546592</td>\n",
       "      <td id=\"T_b1e39_row0_col1\" class=\"data row0 col1\" >control</td>\n",
       "      <td id=\"T_b1e39_row0_col2\" class=\"data row0 col2\" >old</td>\n",
       "    </tr>\n",
       "    <tr>\n",
       "      <th id=\"T_b1e39_level0_row1\" class=\"row_heading level0 row1\" >3</th>\n",
       "      <td id=\"T_b1e39_row1_col0\" class=\"data row1 col0\" >546567</td>\n",
       "      <td id=\"T_b1e39_row1_col1\" class=\"data row1 col1\" >control</td>\n",
       "      <td id=\"T_b1e39_row1_col2\" class=\"data row1 col2\" >old</td>\n",
       "    </tr>\n",
       "    <tr>\n",
       "      <th id=\"T_b1e39_level0_row2\" class=\"row_heading level0 row2\" >5</th>\n",
       "      <td id=\"T_b1e39_row2_col0\" class=\"data row2 col0\" >546558</td>\n",
       "      <td id=\"T_b1e39_row2_col1\" class=\"data row2 col1\" >control</td>\n",
       "      <td id=\"T_b1e39_row2_col2\" class=\"data row2 col2\" >old</td>\n",
       "    </tr>\n",
       "    <tr>\n",
       "      <th id=\"T_b1e39_level0_row3\" class=\"row_heading level0 row3\" >7</th>\n",
       "      <td id=\"T_b1e39_row3_col0\" class=\"data row3 col0\" >546581</td>\n",
       "      <td id=\"T_b1e39_row3_col1\" class=\"data row3 col1\" >control</td>\n",
       "      <td id=\"T_b1e39_row3_col2\" class=\"data row3 col2\" >old</td>\n",
       "    </tr>\n",
       "    <tr>\n",
       "      <th id=\"T_b1e39_level0_row4\" class=\"row_heading level0 row4\" >9</th>\n",
       "      <td id=\"T_b1e39_row4_col0\" class=\"data row4 col0\" >546548</td>\n",
       "      <td id=\"T_b1e39_row4_col1\" class=\"data row4 col1\" >control</td>\n",
       "      <td id=\"T_b1e39_row4_col2\" class=\"data row4 col2\" >old</td>\n",
       "    </tr>\n",
       "    <tr>\n",
       "      <th id=\"T_b1e39_level0_row5\" class=\"row_heading level0 row5\" >10</th>\n",
       "      <td id=\"T_b1e39_row5_col0\" class=\"data row5 col0\" >546588</td>\n",
       "      <td id=\"T_b1e39_row5_col1\" class=\"data row5 col1\" >control</td>\n",
       "      <td id=\"T_b1e39_row5_col2\" class=\"data row5 col2\" >old</td>\n",
       "    </tr>\n",
       "    <tr>\n",
       "      <th id=\"T_b1e39_level0_row6\" class=\"row_heading level0 row6\" >11</th>\n",
       "      <td id=\"T_b1e39_row6_col0\" class=\"data row6 col0\" >546546</td>\n",
       "      <td id=\"T_b1e39_row6_col1\" class=\"data row6 col1\" >control</td>\n",
       "      <td id=\"T_b1e39_row6_col2\" class=\"data row6 col2\" >old</td>\n",
       "    </tr>\n",
       "    <tr>\n",
       "      <th id=\"T_b1e39_level0_row7\" class=\"row_heading level0 row7\" >14</th>\n",
       "      <td id=\"T_b1e39_row7_col0\" class=\"data row7 col0\" >546578</td>\n",
       "      <td id=\"T_b1e39_row7_col1\" class=\"data row7 col1\" >control</td>\n",
       "      <td id=\"T_b1e39_row7_col2\" class=\"data row7 col2\" >old</td>\n",
       "    </tr>\n",
       "    <tr>\n",
       "      <th id=\"T_b1e39_level0_row8\" class=\"row_heading level0 row8\" >17</th>\n",
       "      <td id=\"T_b1e39_row8_col0\" class=\"data row8 col0\" >546555</td>\n",
       "      <td id=\"T_b1e39_row8_col1\" class=\"data row8 col1\" >control</td>\n",
       "      <td id=\"T_b1e39_row8_col2\" class=\"data row8 col2\" >old</td>\n",
       "    </tr>\n",
       "    <tr>\n",
       "      <th id=\"T_b1e39_level0_row9\" class=\"row_heading level0 row9\" >18</th>\n",
       "      <td id=\"T_b1e39_row9_col0\" class=\"data row9 col0\" >546493</td>\n",
       "      <td id=\"T_b1e39_row9_col1\" class=\"data row9 col1\" >control</td>\n",
       "      <td id=\"T_b1e39_row9_col2\" class=\"data row9 col2\" >old</td>\n",
       "    </tr>\n",
       "    <tr>\n",
       "      <th id=\"T_b1e39_level0_row10\" class=\"row_heading level0 row10\" >19</th>\n",
       "      <td id=\"T_b1e39_row10_col0\" class=\"data row10 col0\" >546549</td>\n",
       "      <td id=\"T_b1e39_row10_col1\" class=\"data row10 col1\" >control</td>\n",
       "      <td id=\"T_b1e39_row10_col2\" class=\"data row10 col2\" >old</td>\n",
       "    </tr>\n",
       "    <tr>\n",
       "      <th id=\"T_b1e39_level0_row11\" class=\"row_heading level0 row11\" >20</th>\n",
       "      <td id=\"T_b1e39_row11_col0\" class=\"data row11 col0\" >546560</td>\n",
       "      <td id=\"T_b1e39_row11_col1\" class=\"data row11 col1\" >control</td>\n",
       "      <td id=\"T_b1e39_row11_col2\" class=\"data row11 col2\" >old</td>\n",
       "    </tr>\n",
       "    <tr>\n",
       "      <th id=\"T_b1e39_level0_row12\" class=\"row_heading level0 row12\" >21</th>\n",
       "      <td id=\"T_b1e39_row12_col0\" class=\"data row12 col0\" >546584</td>\n",
       "      <td id=\"T_b1e39_row12_col1\" class=\"data row12 col1\" >control</td>\n",
       "      <td id=\"T_b1e39_row12_col2\" class=\"data row12 col2\" >old</td>\n",
       "    </tr>\n",
       "    <tr>\n",
       "      <th id=\"T_b1e39_level0_row13\" class=\"row_heading level0 row13\" >27</th>\n",
       "      <td id=\"T_b1e39_row13_col0\" class=\"data row13 col0\" >546586</td>\n",
       "      <td id=\"T_b1e39_row13_col1\" class=\"data row13 col1\" >control</td>\n",
       "      <td id=\"T_b1e39_row13_col2\" class=\"data row13 col2\" >old</td>\n",
       "    </tr>\n",
       "    <tr>\n",
       "      <th id=\"T_b1e39_level0_row14\" class=\"row_heading level0 row14\" >29</th>\n",
       "      <td id=\"T_b1e39_row14_col0\" class=\"data row14 col0\" >546575</td>\n",
       "      <td id=\"T_b1e39_row14_col1\" class=\"data row14 col1\" >control</td>\n",
       "      <td id=\"T_b1e39_row14_col2\" class=\"data row14 col2\" >old</td>\n",
       "    </tr>\n",
       "    <tr>\n",
       "      <th id=\"T_b1e39_level0_row15\" class=\"row_heading level0 row15\" >31</th>\n",
       "      <td id=\"T_b1e39_row15_col0\" class=\"data row15 col0\" >546556</td>\n",
       "      <td id=\"T_b1e39_row15_col1\" class=\"data row15 col1\" >control</td>\n",
       "      <td id=\"T_b1e39_row15_col2\" class=\"data row15 col2\" >old</td>\n",
       "    </tr>\n",
       "    <tr>\n",
       "      <th id=\"T_b1e39_level0_row16\" class=\"row_heading level0 row16\" >32</th>\n",
       "      <td id=\"T_b1e39_row16_col0\" class=\"data row16 col0\" >546585</td>\n",
       "      <td id=\"T_b1e39_row16_col1\" class=\"data row16 col1\" >control</td>\n",
       "      <td id=\"T_b1e39_row16_col2\" class=\"data row16 col2\" >old</td>\n",
       "    </tr>\n",
       "    <tr>\n",
       "      <th id=\"T_b1e39_level0_row17\" class=\"row_heading level0 row17\" >33</th>\n",
       "      <td id=\"T_b1e39_row17_col0\" class=\"data row17 col0\" >546577</td>\n",
       "      <td id=\"T_b1e39_row17_col1\" class=\"data row17 col1\" >control</td>\n",
       "      <td id=\"T_b1e39_row17_col2\" class=\"data row17 col2\" >old</td>\n",
       "    </tr>\n",
       "    <tr>\n",
       "      <th id=\"T_b1e39_level0_row18\" class=\"row_heading level0 row18\" >34</th>\n",
       "      <td id=\"T_b1e39_row18_col0\" class=\"data row18 col0\" >546587</td>\n",
       "      <td id=\"T_b1e39_row18_col1\" class=\"data row18 col1\" >control</td>\n",
       "      <td id=\"T_b1e39_row18_col2\" class=\"data row18 col2\" >old</td>\n",
       "    </tr>\n",
       "    <tr>\n",
       "      <th id=\"T_b1e39_level0_row19\" class=\"row_heading level0 row19\" >35</th>\n",
       "      <td id=\"T_b1e39_row19_col0\" class=\"data row19 col0\" >546552</td>\n",
       "      <td id=\"T_b1e39_row19_col1\" class=\"data row19 col1\" >control</td>\n",
       "      <td id=\"T_b1e39_row19_col2\" class=\"data row19 col2\" >old</td>\n",
       "    </tr>\n",
       "    <tr>\n",
       "      <th id=\"T_b1e39_level0_row20\" class=\"row_heading level0 row20\" >36</th>\n",
       "      <td id=\"T_b1e39_row20_col0\" class=\"data row20 col0\" >546551</td>\n",
       "      <td id=\"T_b1e39_row20_col1\" class=\"data row20 col1\" >control</td>\n",
       "      <td id=\"T_b1e39_row20_col2\" class=\"data row20 col2\" >old</td>\n",
       "    </tr>\n",
       "    <tr>\n",
       "      <th id=\"T_b1e39_level0_row21\" class=\"row_heading level0 row21\" >37</th>\n",
       "      <td id=\"T_b1e39_row21_col0\" class=\"data row21 col0\" >546557</td>\n",
       "      <td id=\"T_b1e39_row21_col1\" class=\"data row21 col1\" >control</td>\n",
       "      <td id=\"T_b1e39_row21_col2\" class=\"data row21 col2\" >old</td>\n",
       "    </tr>\n",
       "    <tr>\n",
       "      <th id=\"T_b1e39_level0_row22\" class=\"row_heading level0 row22\" >39</th>\n",
       "      <td id=\"T_b1e39_row22_col0\" class=\"data row22 col0\" >546589</td>\n",
       "      <td id=\"T_b1e39_row22_col1\" class=\"data row22 col1\" >control</td>\n",
       "      <td id=\"T_b1e39_row22_col2\" class=\"data row22 col2\" >old</td>\n",
       "    </tr>\n",
       "    <tr>\n",
       "      <th id=\"T_b1e39_level0_row23\" class=\"row_heading level0 row23\" >40</th>\n",
       "      <td id=\"T_b1e39_row23_col0\" class=\"data row23 col0\" >546559</td>\n",
       "      <td id=\"T_b1e39_row23_col1\" class=\"data row23 col1\" >control</td>\n",
       "      <td id=\"T_b1e39_row23_col2\" class=\"data row23 col2\" >old</td>\n",
       "    </tr>\n",
       "    <tr>\n",
       "      <th id=\"T_b1e39_level0_row24\" class=\"row_heading level0 row24\" >41</th>\n",
       "      <td id=\"T_b1e39_row24_col0\" class=\"data row24 col0\" >546570</td>\n",
       "      <td id=\"T_b1e39_row24_col1\" class=\"data row24 col1\" >control</td>\n",
       "      <td id=\"T_b1e39_row24_col2\" class=\"data row24 col2\" >old</td>\n",
       "    </tr>\n",
       "    <tr>\n",
       "      <th id=\"T_b1e39_level0_row25\" class=\"row_heading level0 row25\" >45</th>\n",
       "      <td id=\"T_b1e39_row25_col0\" class=\"data row25 col0\" >546565</td>\n",
       "      <td id=\"T_b1e39_row25_col1\" class=\"data row25 col1\" >control</td>\n",
       "      <td id=\"T_b1e39_row25_col2\" class=\"data row25 col2\" >old</td>\n",
       "    </tr>\n",
       "    <tr>\n",
       "      <th id=\"T_b1e39_level0_row26\" class=\"row_heading level0 row26\" >50</th>\n",
       "      <td id=\"T_b1e39_row26_col0\" class=\"data row26 col0\" >546554</td>\n",
       "      <td id=\"T_b1e39_row26_col1\" class=\"data row26 col1\" >control</td>\n",
       "      <td id=\"T_b1e39_row26_col2\" class=\"data row26 col2\" >old</td>\n",
       "    </tr>\n",
       "    <tr>\n",
       "      <th id=\"T_b1e39_level0_row27\" class=\"row_heading level0 row27\" >53</th>\n",
       "      <td id=\"T_b1e39_row27_col0\" class=\"data row27 col0\" >546576</td>\n",
       "      <td id=\"T_b1e39_row27_col1\" class=\"data row27 col1\" >control</td>\n",
       "      <td id=\"T_b1e39_row27_col2\" class=\"data row27 col2\" >old</td>\n",
       "    </tr>\n",
       "    <tr>\n",
       "      <th id=\"T_b1e39_level0_row28\" class=\"row_heading level0 row28\" >55</th>\n",
       "      <td id=\"T_b1e39_row28_col0\" class=\"data row28 col0\" >546563</td>\n",
       "      <td id=\"T_b1e39_row28_col1\" class=\"data row28 col1\" >control</td>\n",
       "      <td id=\"T_b1e39_row28_col2\" class=\"data row28 col2\" >old</td>\n",
       "    </tr>\n",
       "    <tr>\n",
       "      <th id=\"T_b1e39_level0_row29\" class=\"row_heading level0 row29\" >56</th>\n",
       "      <td id=\"T_b1e39_row29_col0\" class=\"data row29 col0\" >546569</td>\n",
       "      <td id=\"T_b1e39_row29_col1\" class=\"data row29 col1\" >control</td>\n",
       "      <td id=\"T_b1e39_row29_col2\" class=\"data row29 col2\" >old</td>\n",
       "    </tr>\n",
       "    <tr>\n",
       "      <th id=\"T_b1e39_level0_row30\" class=\"row_heading level0 row30\" >58</th>\n",
       "      <td id=\"T_b1e39_row30_col0\" class=\"data row30 col0\" >546562</td>\n",
       "      <td id=\"T_b1e39_row30_col1\" class=\"data row30 col1\" >control</td>\n",
       "      <td id=\"T_b1e39_row30_col2\" class=\"data row30 col2\" >old</td>\n",
       "    </tr>\n",
       "    <tr>\n",
       "      <th id=\"T_b1e39_level0_row31\" class=\"row_heading level0 row31\" >59</th>\n",
       "      <td id=\"T_b1e39_row31_col0\" class=\"data row31 col0\" >546574</td>\n",
       "      <td id=\"T_b1e39_row31_col1\" class=\"data row31 col1\" >control</td>\n",
       "      <td id=\"T_b1e39_row31_col2\" class=\"data row31 col2\" >old</td>\n",
       "    </tr>\n",
       "    <tr>\n",
       "      <th id=\"T_b1e39_level0_row32\" class=\"row_heading level0 row32\" >62</th>\n",
       "      <td id=\"T_b1e39_row32_col0\" class=\"data row32 col0\" >546572</td>\n",
       "      <td id=\"T_b1e39_row32_col1\" class=\"data row32 col1\" >control</td>\n",
       "      <td id=\"T_b1e39_row32_col2\" class=\"data row32 col2\" >old</td>\n",
       "    </tr>\n",
       "    <tr>\n",
       "      <th id=\"T_b1e39_level0_row33\" class=\"row_heading level0 row33\" >63</th>\n",
       "      <td id=\"T_b1e39_row33_col0\" class=\"data row33 col0\" >546590</td>\n",
       "      <td id=\"T_b1e39_row33_col1\" class=\"data row33 col1\" >control</td>\n",
       "      <td id=\"T_b1e39_row33_col2\" class=\"data row33 col2\" >old</td>\n",
       "    </tr>\n",
       "    <tr>\n",
       "      <th id=\"T_b1e39_level0_row34\" class=\"row_heading level0 row34\" >64</th>\n",
       "      <td id=\"T_b1e39_row34_col0\" class=\"data row34 col0\" >546553</td>\n",
       "      <td id=\"T_b1e39_row34_col1\" class=\"data row34 col1\" >control</td>\n",
       "      <td id=\"T_b1e39_row34_col2\" class=\"data row34 col2\" >old</td>\n",
       "    </tr>\n",
       "    <tr>\n",
       "      <th id=\"T_b1e39_level0_row35\" class=\"row_heading level0 row35\" >66</th>\n",
       "      <td id=\"T_b1e39_row35_col0\" class=\"data row35 col0\" >546545</td>\n",
       "      <td id=\"T_b1e39_row35_col1\" class=\"data row35 col1\" >control</td>\n",
       "      <td id=\"T_b1e39_row35_col2\" class=\"data row35 col2\" >old</td>\n",
       "    </tr>\n",
       "    <tr>\n",
       "      <th id=\"T_b1e39_level0_row36\" class=\"row_heading level0 row36\" >67</th>\n",
       "      <td id=\"T_b1e39_row36_col0\" class=\"data row36 col0\" >546582</td>\n",
       "      <td id=\"T_b1e39_row36_col1\" class=\"data row36 col1\" >control</td>\n",
       "      <td id=\"T_b1e39_row36_col2\" class=\"data row36 col2\" >old</td>\n",
       "    </tr>\n",
       "    <tr>\n",
       "      <th id=\"T_b1e39_level0_row37\" class=\"row_heading level0 row37\" >69</th>\n",
       "      <td id=\"T_b1e39_row37_col0\" class=\"data row37 col0\" >546579</td>\n",
       "      <td id=\"T_b1e39_row37_col1\" class=\"data row37 col1\" >control</td>\n",
       "      <td id=\"T_b1e39_row37_col2\" class=\"data row37 col2\" >old</td>\n",
       "    </tr>\n",
       "    <tr>\n",
       "      <th id=\"T_b1e39_level0_row38\" class=\"row_heading level0 row38\" >70</th>\n",
       "      <td id=\"T_b1e39_row38_col0\" class=\"data row38 col0\" >546568</td>\n",
       "      <td id=\"T_b1e39_row38_col1\" class=\"data row38 col1\" >control</td>\n",
       "      <td id=\"T_b1e39_row38_col2\" class=\"data row38 col2\" >old</td>\n",
       "    </tr>\n",
       "    <tr>\n",
       "      <th id=\"T_b1e39_level0_row39\" class=\"row_heading level0 row39\" >74</th>\n",
       "      <td id=\"T_b1e39_row39_col0\" class=\"data row39 col0\" >546591</td>\n",
       "      <td id=\"T_b1e39_row39_col1\" class=\"data row39 col1\" >control</td>\n",
       "      <td id=\"T_b1e39_row39_col2\" class=\"data row39 col2\" >old</td>\n",
       "    </tr>\n",
       "    <tr>\n",
       "      <th id=\"T_b1e39_level0_row40\" class=\"row_heading level0 row40\" >75</th>\n",
       "      <td id=\"T_b1e39_row40_col0\" class=\"data row40 col0\" >546583</td>\n",
       "      <td id=\"T_b1e39_row40_col1\" class=\"data row40 col1\" >control</td>\n",
       "      <td id=\"T_b1e39_row40_col2\" class=\"data row40 col2\" >old</td>\n",
       "    </tr>\n",
       "    <tr>\n",
       "      <th id=\"T_b1e39_level0_row41\" class=\"row_heading level0 row41\" >76</th>\n",
       "      <td id=\"T_b1e39_row41_col0\" class=\"data row41 col0\" >546573</td>\n",
       "      <td id=\"T_b1e39_row41_col1\" class=\"data row41 col1\" >control</td>\n",
       "      <td id=\"T_b1e39_row41_col2\" class=\"data row41 col2\" >old</td>\n",
       "    </tr>\n",
       "    <tr>\n",
       "      <th id=\"T_b1e39_level0_row42\" class=\"row_heading level0 row42\" >79</th>\n",
       "      <td id=\"T_b1e39_row42_col0\" class=\"data row42 col0\" >546547</td>\n",
       "      <td id=\"T_b1e39_row42_col1\" class=\"data row42 col1\" >control</td>\n",
       "      <td id=\"T_b1e39_row42_col2\" class=\"data row42 col2\" >old</td>\n",
       "    </tr>\n",
       "    <tr>\n",
       "      <th id=\"T_b1e39_level0_row43\" class=\"row_heading level0 row43\" >83</th>\n",
       "      <td id=\"T_b1e39_row43_col0\" class=\"data row43 col0\" >546580</td>\n",
       "      <td id=\"T_b1e39_row43_col1\" class=\"data row43 col1\" >control</td>\n",
       "      <td id=\"T_b1e39_row43_col2\" class=\"data row43 col2\" >old</td>\n",
       "    </tr>\n",
       "    <tr>\n",
       "      <th id=\"T_b1e39_level0_row44\" class=\"row_heading level0 row44\" >84</th>\n",
       "      <td id=\"T_b1e39_row44_col0\" class=\"data row44 col0\" >546571</td>\n",
       "      <td id=\"T_b1e39_row44_col1\" class=\"data row44 col1\" >control</td>\n",
       "      <td id=\"T_b1e39_row44_col2\" class=\"data row44 col2\" >old</td>\n",
       "    </tr>\n",
       "    <tr>\n",
       "      <th id=\"T_b1e39_level0_row45\" class=\"row_heading level0 row45\" >85</th>\n",
       "      <td id=\"T_b1e39_row45_col0\" class=\"data row45 col0\" >546564</td>\n",
       "      <td id=\"T_b1e39_row45_col1\" class=\"data row45 col1\" >control</td>\n",
       "      <td id=\"T_b1e39_row45_col2\" class=\"data row45 col2\" >old</td>\n",
       "    </tr>\n",
       "    <tr>\n",
       "      <th id=\"T_b1e39_level0_row46\" class=\"row_heading level0 row46\" >89</th>\n",
       "      <td id=\"T_b1e39_row46_col0\" class=\"data row46 col0\" >546561</td>\n",
       "      <td id=\"T_b1e39_row46_col1\" class=\"data row46 col1\" >control</td>\n",
       "      <td id=\"T_b1e39_row46_col2\" class=\"data row46 col2\" >old</td>\n",
       "    </tr>\n",
       "    <tr>\n",
       "      <th id=\"T_b1e39_level0_row47\" class=\"row_heading level0 row47\" >92</th>\n",
       "      <td id=\"T_b1e39_row47_col0\" class=\"data row47 col0\" >546566</td>\n",
       "      <td id=\"T_b1e39_row47_col1\" class=\"data row47 col1\" >control</td>\n",
       "      <td id=\"T_b1e39_row47_col2\" class=\"data row47 col2\" >old</td>\n",
       "    </tr>\n",
       "    <tr>\n",
       "      <th id=\"T_b1e39_level0_row48\" class=\"row_heading level0 row48\" >94</th>\n",
       "      <td id=\"T_b1e39_row48_col0\" class=\"data row48 col0\" >546550</td>\n",
       "      <td id=\"T_b1e39_row48_col1\" class=\"data row48 col1\" >control</td>\n",
       "      <td id=\"T_b1e39_row48_col2\" class=\"data row48 col2\" >old</td>\n",
       "    </tr>\n",
       "    <tr>\n",
       "      <th id=\"T_b1e39_level0_row49\" class=\"row_heading level0 row49\" >96</th>\n",
       "      <td id=\"T_b1e39_row49_col0\" class=\"data row49 col0\" >546544</td>\n",
       "      <td id=\"T_b1e39_row49_col1\" class=\"data row49 col1\" >control</td>\n",
       "      <td id=\"T_b1e39_row49_col2\" class=\"data row49 col2\" >old</td>\n",
       "    </tr>\n",
       "  </tbody>\n",
       "</table>\n",
       "          <style type=\"text/css\">\n",
       "</style>\n",
       "<table id=\"T_a80cd_\" style='display:inline'>\n",
       "  <caption>new</caption>\n",
       "  <thead>\n",
       "    <tr>\n",
       "      <th class=\"blank level0\" >&nbsp;</th>\n",
       "      <th class=\"col_heading level0 col0\" >User ID</th>\n",
       "      <th class=\"col_heading level0 col1\" >Group</th>\n",
       "      <th class=\"col_heading level0 col2\" >Landing Page</th>\n",
       "    </tr>\n",
       "  </thead>\n",
       "  <tbody>\n",
       "    <tr>\n",
       "      <th id=\"T_a80cd_level0_row0\" class=\"row_heading level0 row0\" >1</th>\n",
       "      <td id=\"T_a80cd_row0_col0\" class=\"data row0 col0\" >546468</td>\n",
       "      <td id=\"T_a80cd_row0_col1\" class=\"data row0 col1\" >treatment</td>\n",
       "      <td id=\"T_a80cd_row0_col2\" class=\"data row0 col2\" >new</td>\n",
       "    </tr>\n",
       "    <tr>\n",
       "      <th id=\"T_a80cd_level0_row1\" class=\"row_heading level0 row1\" >2</th>\n",
       "      <td id=\"T_a80cd_row1_col0\" class=\"data row1 col0\" >546462</td>\n",
       "      <td id=\"T_a80cd_row1_col1\" class=\"data row1 col1\" >treatment</td>\n",
       "      <td id=\"T_a80cd_row1_col2\" class=\"data row1 col2\" >new</td>\n",
       "    </tr>\n",
       "    <tr>\n",
       "      <th id=\"T_a80cd_level0_row2\" class=\"row_heading level0 row2\" >4</th>\n",
       "      <td id=\"T_a80cd_row2_col0\" class=\"data row2 col0\" >546459</td>\n",
       "      <td id=\"T_a80cd_row2_col1\" class=\"data row2 col1\" >treatment</td>\n",
       "      <td id=\"T_a80cd_row2_col2\" class=\"data row2 col2\" >new</td>\n",
       "    </tr>\n",
       "    <tr>\n",
       "      <th id=\"T_a80cd_level0_row3\" class=\"row_heading level0 row3\" >6</th>\n",
       "      <td id=\"T_a80cd_row3_col0\" class=\"data row3 col0\" >546448</td>\n",
       "      <td id=\"T_a80cd_row3_col1\" class=\"data row3 col1\" >treatment</td>\n",
       "      <td id=\"T_a80cd_row3_col2\" class=\"data row3 col2\" >new</td>\n",
       "    </tr>\n",
       "    <tr>\n",
       "      <th id=\"T_a80cd_level0_row4\" class=\"row_heading level0 row4\" >8</th>\n",
       "      <td id=\"T_a80cd_row4_col0\" class=\"data row4 col0\" >546461</td>\n",
       "      <td id=\"T_a80cd_row4_col1\" class=\"data row4 col1\" >treatment</td>\n",
       "      <td id=\"T_a80cd_row4_col2\" class=\"data row4 col2\" >new</td>\n",
       "    </tr>\n",
       "    <tr>\n",
       "      <th id=\"T_a80cd_level0_row5\" class=\"row_heading level0 row5\" >12</th>\n",
       "      <td id=\"T_a80cd_row5_col0\" class=\"data row5 col0\" >546491</td>\n",
       "      <td id=\"T_a80cd_row5_col1\" class=\"data row5 col1\" >treatment</td>\n",
       "      <td id=\"T_a80cd_row5_col2\" class=\"data row5 col2\" >new</td>\n",
       "    </tr>\n",
       "    <tr>\n",
       "      <th id=\"T_a80cd_level0_row6\" class=\"row_heading level0 row6\" >13</th>\n",
       "      <td id=\"T_a80cd_row6_col0\" class=\"data row6 col0\" >546478</td>\n",
       "      <td id=\"T_a80cd_row6_col1\" class=\"data row6 col1\" >treatment</td>\n",
       "      <td id=\"T_a80cd_row6_col2\" class=\"data row6 col2\" >new</td>\n",
       "    </tr>\n",
       "    <tr>\n",
       "      <th id=\"T_a80cd_level0_row7\" class=\"row_heading level0 row7\" >15</th>\n",
       "      <td id=\"T_a80cd_row7_col0\" class=\"data row7 col0\" >546466</td>\n",
       "      <td id=\"T_a80cd_row7_col1\" class=\"data row7 col1\" >treatment</td>\n",
       "      <td id=\"T_a80cd_row7_col2\" class=\"data row7 col2\" >new</td>\n",
       "    </tr>\n",
       "    <tr>\n",
       "      <th id=\"T_a80cd_level0_row8\" class=\"row_heading level0 row8\" >16</th>\n",
       "      <td id=\"T_a80cd_row8_col0\" class=\"data row8 col0\" >546443</td>\n",
       "      <td id=\"T_a80cd_row8_col1\" class=\"data row8 col1\" >treatment</td>\n",
       "      <td id=\"T_a80cd_row8_col2\" class=\"data row8 col2\" >new</td>\n",
       "    </tr>\n",
       "    <tr>\n",
       "      <th id=\"T_a80cd_level0_row9\" class=\"row_heading level0 row9\" >22</th>\n",
       "      <td id=\"T_a80cd_row9_col0\" class=\"data row9 col0\" >546450</td>\n",
       "      <td id=\"T_a80cd_row9_col1\" class=\"data row9 col1\" >treatment</td>\n",
       "      <td id=\"T_a80cd_row9_col2\" class=\"data row9 col2\" >new</td>\n",
       "    </tr>\n",
       "    <tr>\n",
       "      <th id=\"T_a80cd_level0_row10\" class=\"row_heading level0 row10\" >23</th>\n",
       "      <td id=\"T_a80cd_row10_col0\" class=\"data row10 col0\" >546475</td>\n",
       "      <td id=\"T_a80cd_row10_col1\" class=\"data row10 col1\" >treatment</td>\n",
       "      <td id=\"T_a80cd_row10_col2\" class=\"data row10 col2\" >new</td>\n",
       "    </tr>\n",
       "    <tr>\n",
       "      <th id=\"T_a80cd_level0_row11\" class=\"row_heading level0 row11\" >24</th>\n",
       "      <td id=\"T_a80cd_row11_col0\" class=\"data row11 col0\" >546456</td>\n",
       "      <td id=\"T_a80cd_row11_col1\" class=\"data row11 col1\" >treatment</td>\n",
       "      <td id=\"T_a80cd_row11_col2\" class=\"data row11 col2\" >new</td>\n",
       "    </tr>\n",
       "    <tr>\n",
       "      <th id=\"T_a80cd_level0_row12\" class=\"row_heading level0 row12\" >25</th>\n",
       "      <td id=\"T_a80cd_row12_col0\" class=\"data row12 col0\" >546455</td>\n",
       "      <td id=\"T_a80cd_row12_col1\" class=\"data row12 col1\" >treatment</td>\n",
       "      <td id=\"T_a80cd_row12_col2\" class=\"data row12 col2\" >new</td>\n",
       "    </tr>\n",
       "    <tr>\n",
       "      <th id=\"T_a80cd_level0_row13\" class=\"row_heading level0 row13\" >26</th>\n",
       "      <td id=\"T_a80cd_row13_col0\" class=\"data row13 col0\" >546469</td>\n",
       "      <td id=\"T_a80cd_row13_col1\" class=\"data row13 col1\" >treatment</td>\n",
       "      <td id=\"T_a80cd_row13_col2\" class=\"data row13 col2\" >new</td>\n",
       "    </tr>\n",
       "    <tr>\n",
       "      <th id=\"T_a80cd_level0_row14\" class=\"row_heading level0 row14\" >28</th>\n",
       "      <td id=\"T_a80cd_row14_col0\" class=\"data row14 col0\" >546471</td>\n",
       "      <td id=\"T_a80cd_row14_col1\" class=\"data row14 col1\" >treatment</td>\n",
       "      <td id=\"T_a80cd_row14_col2\" class=\"data row14 col2\" >new</td>\n",
       "    </tr>\n",
       "    <tr>\n",
       "      <th id=\"T_a80cd_level0_row15\" class=\"row_heading level0 row15\" >30</th>\n",
       "      <td id=\"T_a80cd_row15_col0\" class=\"data row15 col0\" >546464</td>\n",
       "      <td id=\"T_a80cd_row15_col1\" class=\"data row15 col1\" >treatment</td>\n",
       "      <td id=\"T_a80cd_row15_col2\" class=\"data row15 col2\" >new</td>\n",
       "    </tr>\n",
       "    <tr>\n",
       "      <th id=\"T_a80cd_level0_row16\" class=\"row_heading level0 row16\" >38</th>\n",
       "      <td id=\"T_a80cd_row16_col0\" class=\"data row16 col0\" >546487</td>\n",
       "      <td id=\"T_a80cd_row16_col1\" class=\"data row16 col1\" >treatment</td>\n",
       "      <td id=\"T_a80cd_row16_col2\" class=\"data row16 col2\" >new</td>\n",
       "    </tr>\n",
       "    <tr>\n",
       "      <th id=\"T_a80cd_level0_row17\" class=\"row_heading level0 row17\" >42</th>\n",
       "      <td id=\"T_a80cd_row17_col0\" class=\"data row17 col0\" >546489</td>\n",
       "      <td id=\"T_a80cd_row17_col1\" class=\"data row17 col1\" >treatment</td>\n",
       "      <td id=\"T_a80cd_row17_col2\" class=\"data row17 col2\" >new</td>\n",
       "    </tr>\n",
       "    <tr>\n",
       "      <th id=\"T_a80cd_level0_row18\" class=\"row_heading level0 row18\" >43</th>\n",
       "      <td id=\"T_a80cd_row18_col0\" class=\"data row18 col0\" >546453</td>\n",
       "      <td id=\"T_a80cd_row18_col1\" class=\"data row18 col1\" >treatment</td>\n",
       "      <td id=\"T_a80cd_row18_col2\" class=\"data row18 col2\" >new</td>\n",
       "    </tr>\n",
       "    <tr>\n",
       "      <th id=\"T_a80cd_level0_row19\" class=\"row_heading level0 row19\" >44</th>\n",
       "      <td id=\"T_a80cd_row19_col0\" class=\"data row19 col0\" >546488</td>\n",
       "      <td id=\"T_a80cd_row19_col1\" class=\"data row19 col1\" >treatment</td>\n",
       "      <td id=\"T_a80cd_row19_col2\" class=\"data row19 col2\" >new</td>\n",
       "    </tr>\n",
       "    <tr>\n",
       "      <th id=\"T_a80cd_level0_row20\" class=\"row_heading level0 row20\" >46</th>\n",
       "      <td id=\"T_a80cd_row20_col0\" class=\"data row20 col0\" >546460</td>\n",
       "      <td id=\"T_a80cd_row20_col1\" class=\"data row20 col1\" >treatment</td>\n",
       "      <td id=\"T_a80cd_row20_col2\" class=\"data row20 col2\" >new</td>\n",
       "    </tr>\n",
       "    <tr>\n",
       "      <th id=\"T_a80cd_level0_row21\" class=\"row_heading level0 row21\" >47</th>\n",
       "      <td id=\"T_a80cd_row21_col0\" class=\"data row21 col0\" >546458</td>\n",
       "      <td id=\"T_a80cd_row21_col1\" class=\"data row21 col1\" >treatment</td>\n",
       "      <td id=\"T_a80cd_row21_col2\" class=\"data row21 col2\" >new</td>\n",
       "    </tr>\n",
       "    <tr>\n",
       "      <th id=\"T_a80cd_level0_row22\" class=\"row_heading level0 row22\" >48</th>\n",
       "      <td id=\"T_a80cd_row22_col0\" class=\"data row22 col0\" >546492</td>\n",
       "      <td id=\"T_a80cd_row22_col1\" class=\"data row22 col1\" >treatment</td>\n",
       "      <td id=\"T_a80cd_row22_col2\" class=\"data row22 col2\" >new</td>\n",
       "    </tr>\n",
       "    <tr>\n",
       "      <th id=\"T_a80cd_level0_row23\" class=\"row_heading level0 row23\" >49</th>\n",
       "      <td id=\"T_a80cd_row23_col0\" class=\"data row23 col0\" >546473</td>\n",
       "      <td id=\"T_a80cd_row23_col1\" class=\"data row23 col1\" >treatment</td>\n",
       "      <td id=\"T_a80cd_row23_col2\" class=\"data row23 col2\" >new</td>\n",
       "    </tr>\n",
       "    <tr>\n",
       "      <th id=\"T_a80cd_level0_row24\" class=\"row_heading level0 row24\" >51</th>\n",
       "      <td id=\"T_a80cd_row24_col0\" class=\"data row24 col0\" >546457</td>\n",
       "      <td id=\"T_a80cd_row24_col1\" class=\"data row24 col1\" >treatment</td>\n",
       "      <td id=\"T_a80cd_row24_col2\" class=\"data row24 col2\" >new</td>\n",
       "    </tr>\n",
       "    <tr>\n",
       "      <th id=\"T_a80cd_level0_row25\" class=\"row_heading level0 row25\" >52</th>\n",
       "      <td id=\"T_a80cd_row25_col0\" class=\"data row25 col0\" >546479</td>\n",
       "      <td id=\"T_a80cd_row25_col1\" class=\"data row25 col1\" >treatment</td>\n",
       "      <td id=\"T_a80cd_row25_col2\" class=\"data row25 col2\" >new</td>\n",
       "    </tr>\n",
       "    <tr>\n",
       "      <th id=\"T_a80cd_level0_row26\" class=\"row_heading level0 row26\" >54</th>\n",
       "      <td id=\"T_a80cd_row26_col0\" class=\"data row26 col0\" >546482</td>\n",
       "      <td id=\"T_a80cd_row26_col1\" class=\"data row26 col1\" >treatment</td>\n",
       "      <td id=\"T_a80cd_row26_col2\" class=\"data row26 col2\" >new</td>\n",
       "    </tr>\n",
       "    <tr>\n",
       "      <th id=\"T_a80cd_level0_row27\" class=\"row_heading level0 row27\" >57</th>\n",
       "      <td id=\"T_a80cd_row27_col0\" class=\"data row27 col0\" >546454</td>\n",
       "      <td id=\"T_a80cd_row27_col1\" class=\"data row27 col1\" >treatment</td>\n",
       "      <td id=\"T_a80cd_row27_col2\" class=\"data row27 col2\" >new</td>\n",
       "    </tr>\n",
       "    <tr>\n",
       "      <th id=\"T_a80cd_level0_row28\" class=\"row_heading level0 row28\" >60</th>\n",
       "      <td id=\"T_a80cd_row28_col0\" class=\"data row28 col0\" >546470</td>\n",
       "      <td id=\"T_a80cd_row28_col1\" class=\"data row28 col1\" >treatment</td>\n",
       "      <td id=\"T_a80cd_row28_col2\" class=\"data row28 col2\" >new</td>\n",
       "    </tr>\n",
       "    <tr>\n",
       "      <th id=\"T_a80cd_level0_row29\" class=\"row_heading level0 row29\" >61</th>\n",
       "      <td id=\"T_a80cd_row29_col0\" class=\"data row29 col0\" >546467</td>\n",
       "      <td id=\"T_a80cd_row29_col1\" class=\"data row29 col1\" >treatment</td>\n",
       "      <td id=\"T_a80cd_row29_col2\" class=\"data row29 col2\" >new</td>\n",
       "    </tr>\n",
       "    <tr>\n",
       "      <th id=\"T_a80cd_level0_row30\" class=\"row_heading level0 row30\" >65</th>\n",
       "      <td id=\"T_a80cd_row30_col0\" class=\"data row30 col0\" >546445</td>\n",
       "      <td id=\"T_a80cd_row30_col1\" class=\"data row30 col1\" >treatment</td>\n",
       "      <td id=\"T_a80cd_row30_col2\" class=\"data row30 col2\" >new</td>\n",
       "    </tr>\n",
       "    <tr>\n",
       "      <th id=\"T_a80cd_level0_row31\" class=\"row_heading level0 row31\" >68</th>\n",
       "      <td id=\"T_a80cd_row31_col0\" class=\"data row31 col0\" >546484</td>\n",
       "      <td id=\"T_a80cd_row31_col1\" class=\"data row31 col1\" >treatment</td>\n",
       "      <td id=\"T_a80cd_row31_col2\" class=\"data row31 col2\" >new</td>\n",
       "    </tr>\n",
       "    <tr>\n",
       "      <th id=\"T_a80cd_level0_row32\" class=\"row_heading level0 row32\" >71</th>\n",
       "      <td id=\"T_a80cd_row32_col0\" class=\"data row32 col0\" >546476</td>\n",
       "      <td id=\"T_a80cd_row32_col1\" class=\"data row32 col1\" >treatment</td>\n",
       "      <td id=\"T_a80cd_row32_col2\" class=\"data row32 col2\" >new</td>\n",
       "    </tr>\n",
       "    <tr>\n",
       "      <th id=\"T_a80cd_level0_row33\" class=\"row_heading level0 row33\" >72</th>\n",
       "      <td id=\"T_a80cd_row33_col0\" class=\"data row33 col0\" >546452</td>\n",
       "      <td id=\"T_a80cd_row33_col1\" class=\"data row33 col1\" >treatment</td>\n",
       "      <td id=\"T_a80cd_row33_col2\" class=\"data row33 col2\" >new</td>\n",
       "    </tr>\n",
       "    <tr>\n",
       "      <th id=\"T_a80cd_level0_row34\" class=\"row_heading level0 row34\" >73</th>\n",
       "      <td id=\"T_a80cd_row34_col0\" class=\"data row34 col0\" >546444</td>\n",
       "      <td id=\"T_a80cd_row34_col1\" class=\"data row34 col1\" >treatment</td>\n",
       "      <td id=\"T_a80cd_row34_col2\" class=\"data row34 col2\" >new</td>\n",
       "    </tr>\n",
       "    <tr>\n",
       "      <th id=\"T_a80cd_level0_row35\" class=\"row_heading level0 row35\" >77</th>\n",
       "      <td id=\"T_a80cd_row35_col0\" class=\"data row35 col0\" >546485</td>\n",
       "      <td id=\"T_a80cd_row35_col1\" class=\"data row35 col1\" >treatment</td>\n",
       "      <td id=\"T_a80cd_row35_col2\" class=\"data row35 col2\" >new</td>\n",
       "    </tr>\n",
       "    <tr>\n",
       "      <th id=\"T_a80cd_level0_row36\" class=\"row_heading level0 row36\" >78</th>\n",
       "      <td id=\"T_a80cd_row36_col0\" class=\"data row36 col0\" >546486</td>\n",
       "      <td id=\"T_a80cd_row36_col1\" class=\"data row36 col1\" >treatment</td>\n",
       "      <td id=\"T_a80cd_row36_col2\" class=\"data row36 col2\" >new</td>\n",
       "    </tr>\n",
       "    <tr>\n",
       "      <th id=\"T_a80cd_level0_row37\" class=\"row_heading level0 row37\" >80</th>\n",
       "      <td id=\"T_a80cd_row37_col0\" class=\"data row37 col0\" >546490</td>\n",
       "      <td id=\"T_a80cd_row37_col1\" class=\"data row37 col1\" >treatment</td>\n",
       "      <td id=\"T_a80cd_row37_col2\" class=\"data row37 col2\" >new</td>\n",
       "    </tr>\n",
       "    <tr>\n",
       "      <th id=\"T_a80cd_level0_row38\" class=\"row_heading level0 row38\" >81</th>\n",
       "      <td id=\"T_a80cd_row38_col0\" class=\"data row38 col0\" >546449</td>\n",
       "      <td id=\"T_a80cd_row38_col1\" class=\"data row38 col1\" >treatment</td>\n",
       "      <td id=\"T_a80cd_row38_col2\" class=\"data row38 col2\" >new</td>\n",
       "    </tr>\n",
       "    <tr>\n",
       "      <th id=\"T_a80cd_level0_row39\" class=\"row_heading level0 row39\" >82</th>\n",
       "      <td id=\"T_a80cd_row39_col0\" class=\"data row39 col0\" >546463</td>\n",
       "      <td id=\"T_a80cd_row39_col1\" class=\"data row39 col1\" >treatment</td>\n",
       "      <td id=\"T_a80cd_row39_col2\" class=\"data row39 col2\" >new</td>\n",
       "    </tr>\n",
       "    <tr>\n",
       "      <th id=\"T_a80cd_level0_row40\" class=\"row_heading level0 row40\" >86</th>\n",
       "      <td id=\"T_a80cd_row40_col0\" class=\"data row40 col0\" >546465</td>\n",
       "      <td id=\"T_a80cd_row40_col1\" class=\"data row40 col1\" >treatment</td>\n",
       "      <td id=\"T_a80cd_row40_col2\" class=\"data row40 col2\" >new</td>\n",
       "    </tr>\n",
       "    <tr>\n",
       "      <th id=\"T_a80cd_level0_row41\" class=\"row_heading level0 row41\" >87</th>\n",
       "      <td id=\"T_a80cd_row41_col0\" class=\"data row41 col0\" >546480</td>\n",
       "      <td id=\"T_a80cd_row41_col1\" class=\"data row41 col1\" >treatment</td>\n",
       "      <td id=\"T_a80cd_row41_col2\" class=\"data row41 col2\" >new</td>\n",
       "    </tr>\n",
       "    <tr>\n",
       "      <th id=\"T_a80cd_level0_row42\" class=\"row_heading level0 row42\" >88</th>\n",
       "      <td id=\"T_a80cd_row42_col0\" class=\"data row42 col0\" >546447</td>\n",
       "      <td id=\"T_a80cd_row42_col1\" class=\"data row42 col1\" >treatment</td>\n",
       "      <td id=\"T_a80cd_row42_col2\" class=\"data row42 col2\" >new</td>\n",
       "    </tr>\n",
       "    <tr>\n",
       "      <th id=\"T_a80cd_level0_row43\" class=\"row_heading level0 row43\" >90</th>\n",
       "      <td id=\"T_a80cd_row43_col0\" class=\"data row43 col0\" >546477</td>\n",
       "      <td id=\"T_a80cd_row43_col1\" class=\"data row43 col1\" >treatment</td>\n",
       "      <td id=\"T_a80cd_row43_col2\" class=\"data row43 col2\" >new</td>\n",
       "    </tr>\n",
       "    <tr>\n",
       "      <th id=\"T_a80cd_level0_row44\" class=\"row_heading level0 row44\" >91</th>\n",
       "      <td id=\"T_a80cd_row44_col0\" class=\"data row44 col0\" >546451</td>\n",
       "      <td id=\"T_a80cd_row44_col1\" class=\"data row44 col1\" >treatment</td>\n",
       "      <td id=\"T_a80cd_row44_col2\" class=\"data row44 col2\" >new</td>\n",
       "    </tr>\n",
       "    <tr>\n",
       "      <th id=\"T_a80cd_level0_row45\" class=\"row_heading level0 row45\" >93</th>\n",
       "      <td id=\"T_a80cd_row45_col0\" class=\"data row45 col0\" >546474</td>\n",
       "      <td id=\"T_a80cd_row45_col1\" class=\"data row45 col1\" >treatment</td>\n",
       "      <td id=\"T_a80cd_row45_col2\" class=\"data row45 col2\" >new</td>\n",
       "    </tr>\n",
       "    <tr>\n",
       "      <th id=\"T_a80cd_level0_row46\" class=\"row_heading level0 row46\" >95</th>\n",
       "      <td id=\"T_a80cd_row46_col0\" class=\"data row46 col0\" >546446</td>\n",
       "      <td id=\"T_a80cd_row46_col1\" class=\"data row46 col1\" >treatment</td>\n",
       "      <td id=\"T_a80cd_row46_col2\" class=\"data row46 col2\" >new</td>\n",
       "    </tr>\n",
       "    <tr>\n",
       "      <th id=\"T_a80cd_level0_row47\" class=\"row_heading level0 row47\" >97</th>\n",
       "      <td id=\"T_a80cd_row47_col0\" class=\"data row47 col0\" >546472</td>\n",
       "      <td id=\"T_a80cd_row47_col1\" class=\"data row47 col1\" >treatment</td>\n",
       "      <td id=\"T_a80cd_row47_col2\" class=\"data row47 col2\" >new</td>\n",
       "    </tr>\n",
       "    <tr>\n",
       "      <th id=\"T_a80cd_level0_row48\" class=\"row_heading level0 row48\" >98</th>\n",
       "      <td id=\"T_a80cd_row48_col0\" class=\"data row48 col0\" >546481</td>\n",
       "      <td id=\"T_a80cd_row48_col1\" class=\"data row48 col1\" >treatment</td>\n",
       "      <td id=\"T_a80cd_row48_col2\" class=\"data row48 col2\" >new</td>\n",
       "    </tr>\n",
       "    <tr>\n",
       "      <th id=\"T_a80cd_level0_row49\" class=\"row_heading level0 row49\" >99</th>\n",
       "      <td id=\"T_a80cd_row49_col0\" class=\"data row49 col0\" >546483</td>\n",
       "      <td id=\"T_a80cd_row49_col1\" class=\"data row49 col1\" >treatment</td>\n",
       "      <td id=\"T_a80cd_row49_col2\" class=\"data row49 col2\" >new</td>\n",
       "    </tr>\n",
       "  </tbody>\n",
       "</table>\n"
      ]
     },
     "metadata": {},
     "output_type": "display_data"
    }
   ],
   "source": [
    "# verify that 'Group' and 'Landing Page' perfectly reflect the same bucket of users\n",
    "\n",
    "control_df = e_news[e_news['Group']=='control'].drop(columns=['Converted','Preferred Language','Time Spent On Page(Minutes)'])\n",
    "new_df = e_news[e_news['Landing Page']=='new'].drop(columns=['Converted','Preferred Language','Time Spent On Page(Minutes)'])\n",
    "\n",
    "control_styler = control_df.style.set_table_attributes(\"style='display:inline'\").set_caption('control')\n",
    "new_styler = new_df.style.set_table_attributes(\"style='display:inline'\").set_caption('new')\n",
    "\n",
    "space = \"\\xa0\" * 10\n",
    "display_html(control_styler._repr_html_()+ space + new_styler._repr_html_(), raw=True)"
   ]
  },
  {
   "cell_type": "markdown",
   "id": "2bbc5368",
   "metadata": {},
   "source": [
    "- group and landing page give us the same info, all users in control were delivered the old page and all users in the treatment were delivered the new\n",
    "- one column would need to be dropped when building a model"
   ]
  },
  {
   "cell_type": "code",
   "execution_count": 14,
   "id": "c967e633",
   "metadata": {},
   "outputs": [
    {
     "data": {
      "text/plain": [
       "yes    54\n",
       "no     46\n",
       "Name: Converted, dtype: int64"
      ]
     },
     "execution_count": 14,
     "metadata": {},
     "output_type": "execute_result"
    }
   ],
   "source": [
    "e_news['Converted'].value_counts()"
   ]
  },
  {
   "cell_type": "markdown",
   "id": "852f403f",
   "metadata": {},
   "source": [
    "- 54 users subscribed\n",
    "- 46 did not subscribe"
   ]
  },
  {
   "cell_type": "code",
   "execution_count": 15,
   "id": "49d4c7c7",
   "metadata": {},
   "outputs": [
    {
     "data": {
      "text/plain": [
       "French     34\n",
       "Spanish    34\n",
       "English    32\n",
       "Name: Preferred Language, dtype: int64"
      ]
     },
     "execution_count": 15,
     "metadata": {},
     "output_type": "execute_result"
    }
   ],
   "source": [
    "e_news['Preferred Language'].value_counts()"
   ]
  },
  {
   "cell_type": "markdown",
   "id": "0b0d598a",
   "metadata": {},
   "source": [
    "- the 3 language options all have a fairly equal representation in the data\n",
    "- 34 prefer French, 34 prefer Spanish and 32 prefer English"
   ]
  },
  {
   "cell_type": "code",
   "execution_count": 16,
   "id": "843bdf12",
   "metadata": {},
   "outputs": [
    {
     "data": {
      "text/plain": [
       "count    100.000000\n",
       "mean       5.377800\n",
       "std        2.378166\n",
       "min        0.190000\n",
       "25%        3.880000\n",
       "50%        5.415000\n",
       "75%        7.022500\n",
       "max       10.710000\n",
       "Name: Time Spent On Page(Minutes), dtype: float64"
      ]
     },
     "execution_count": 16,
     "metadata": {},
     "output_type": "execute_result"
    }
   ],
   "source": [
    "\n",
    "e_news['Time Spent On Page(Minutes)'].describe()"
   ]
  },
  {
   "cell_type": "markdown",
   "id": "d4523e6b",
   "metadata": {},
   "source": [
    "- Mean time spent on page is 5:37\n",
    "- Standard deviation is 2:37\n",
    "- Range is from 19 seconds to 10 minutes"
   ]
  },
  {
   "cell_type": "markdown",
   "id": "03247f73",
   "metadata": {
    "id": "6970dd99"
   },
   "source": [
    "<h5 style='color:red;font-size:30px;font-family:Georgia;text-align:center;'><strong>&#128269;Data Overview Observations&#128269;</strong></h5>\n",
    "\n",
    "<div style='font-family:Georgia;color:#000000;font-size:90%;text-align:center;border-radius:10px;border-style:dotted;border-width:5px;border-color:#323232;'>\n",
    "<br>\n",
    "    1. <strong>SHAPE / DIMENSIONS / SIZE</strong><br>\n",
    "    <br>\n",
    "    The data consists of 100 observations(rows) and 6 columns, making it 2 dimensions with a total of 100*6=600 elements.<br>\n",
    "    <br>\n",
    "    2. <strong>COLUMNS</strong><br>\n",
    "    <p style='text-align:left;padding-left:20px;padding-right:20px'><strong>USER_ID</strong> - Unique 6-digit int64 type numbers representing the individual user observed.<br>\n",
    "    <br>\n",
    "       <strong>Group</strong> - Each observation is categorized into two buckets, 'control' or 'treatment' Group.  The two Groups are equally represented in the data set with each Group comprising 50 observations.<br>\n",
    "    <br>\n",
    "        <strong>LANDING PAGE</strong> - As with the Group column, Landing Page categorizes the data into 'new' and 'old' depending if the user was delivered the new landing page or the old.  This column is redundant providing the same info as the Group column where all users in the control Group were delivered the old landing page and all users in the treatment Group were delivered the new page.<br>\n",
    "    <br>\n",
    "        <strong>TIME SPENT ON PAGE</strong> - Time in minutes spent by the user on the respective page represented as a float64 datatype.<br>\n",
    "    <br>\n",
    "        <strong>CONVERTED</strong> - 'Yes/No' categorical datatype indicating if the user was converted to a subscriber.<br>\n",
    "    <br>\n",
    "        <strong>LANGUAGE PREFERRED</strong> - Categorical datatype specifiying the user preferred language.  Three languages are represented in the data; English, Spanish and French.<br>\n",
    "    <br>\n",
    "    </p>\n",
    "    3. <strong>CONVERTED DATATYPES</strong><br>\n",
    "    <br>\n",
    "        'Group', 'Landing Page', 'converted' and Language Preferred' were converted from 'object' type to 'category' for memory optimization.<br>\n",
    "    <br>\n",
    "    4. <strong>MISSING VALUES</strong><br>\n",
    "    <br>\n",
    "        There are no missing values in the dataset.<br>\n",
    "    <br>\n",
    "    5. <strong>SUMMARY STATS</strong><br>\n",
    "    <br>\n",
    "        'Time Spent On Page(Minutes)' is the only numeric column with useful summary stats.<br>\n",
    "    <br>\n",
    "        Average time spent on page is 5 minutes<br>\n",
    "        Standard deviation is 2 minutes<br>\n",
    "        Range is 19 seconds to 11 minutes<br>\n",
    "    <br>\n",
    "</div>"
   ]
  },
  {
   "cell_type": "markdown",
   "id": "eec68622",
   "metadata": {
    "id": "68f3b2c9"
   },
   "source": [
    "### Univariate Analysis"
   ]
  },
  {
   "cell_type": "code",
   "execution_count": 17,
   "id": "20429ee5",
   "metadata": {
    "id": "1932d0f3"
   },
   "outputs": [],
   "source": [
    "# function to plot a boxplot and a histogram along the same scale.\n",
    "\n",
    "\n",
    "def histogram_boxplot(data, feature, figsize=(12, 7), kde=False, bins=None):\n",
    "    \"\"\"\n",
    "    Boxplot and histogram combined\n",
    "\n",
    "    data: dataframe\n",
    "    feature: dataframe column\n",
    "    figsize: size of figure (default (12,7))\n",
    "    kde: whether to show the density curve (default False)\n",
    "    bins: number of bins for histogram (default None)\n",
    "    \"\"\"\n",
    "    f2, (ax_box2, ax_hist2) = plt.subplots(\n",
    "        nrows=2,  # Number of rows of the subplot grid= 2\n",
    "        sharex=True,  # x-axis will be shared among all subplots\n",
    "        gridspec_kw={\"height_ratios\": (0.25, 0.75)},\n",
    "        figsize=figsize,\n",
    "    )  # creating the 2 subplots\n",
    "    sns.boxplot(\n",
    "        data=data, x=feature, ax=ax_box2, showmeans=True, color=\"violet\"\n",
    "    )  # boxplot will be created and a star will indicate the mean value of the column\n",
    "    sns.histplot(\n",
    "        data=data, x=feature, kde=kde, ax=ax_hist2, bins=bins, palette=\"winter\"\n",
    "    ) if bins else sns.histplot(\n",
    "        data=data, x=feature, kde=kde, ax=ax_hist2\n",
    "    )  # For histogram\n",
    "    ax_hist2.axvline(\n",
    "        data[feature].mean(), color=\"green\", linestyle=\"--\"\n",
    "    )  # Add mean to the histogram\n",
    "    ax_hist2.axvline(\n",
    "        data[feature].median(), color=\"black\", linestyle=\"-\"\n",
    "    )  # Add median to the histogram"
   ]
  },
  {
   "cell_type": "code",
   "execution_count": 18,
   "id": "fc971c0a",
   "metadata": {
    "id": "2fce6350"
   },
   "outputs": [],
   "source": [
    "# function to create labeled barplots\n",
    "\n",
    "\n",
    "def labeled_barplot(data, feature, perc=False, n=None, h=None):\n",
    "    \"\"\"\n",
    "    Barplot with percentage at the top\n",
    "\n",
    "    data: dataframe\n",
    "    feature: dataframe column\n",
    "    perc: whether to display percentages instead of count (default is False)\n",
    "    n: displays the top n category levels (default is None, i.e., display all levels)\n",
    "    \"\"\"\n",
    "\n",
    "    total = len(data[feature])  # length of the column\n",
    "    count = data[feature].nunique()\n",
    "    if n is None:\n",
    "        plt.figure(figsize=(count + 3, 5))\n",
    "    else:\n",
    "        plt.figure(figsize=(n + 3, 5))\n",
    "\n",
    "    plt.xticks(rotation=90, fontsize=15)\n",
    "    ax = sns.countplot(data=data, x=feature, palette=\"Paired\", order=data[feature].value_counts().index[:n].sort_values(), hue=h)\n",
    "\n",
    "    for p in ax.patches:\n",
    "        if perc == True:\n",
    "            label = \"{:.1f}%\".format(100 * p.get_height() / total)  # percentage of each class of the category\n",
    "        else:\n",
    "            label = p.get_height()  # count of each level of the category\n",
    "\n",
    "        x = p.get_x() + p.get_width() / 2  # width of the plot\n",
    "        y = p.get_height()      # height of the plot\n",
    "\n",
    "        ax.annotate(label, (x, y), ha=\"center\", va=\"center\", size=12, xytext=(0, 5), textcoords=\"offset points\")  # annotate the percentage\n",
    "    if h:\n",
    "        ax.legend(bbox_to_anchor=(1.05, 1), loc=2, borderaxespad=0.)\n",
    "\n",
    "    plt.show()  # show the plot"
   ]
  },
  {
   "cell_type": "markdown",
   "id": "51272f7e",
   "metadata": {},
   "source": [
    "### Time Spent On Page"
   ]
  },
  {
   "cell_type": "code",
   "execution_count": 19,
   "id": "2bbef299",
   "metadata": {
    "id": "e6f99481"
   },
   "outputs": [
    {
     "data": {
      "image/png": "[encoded data removed]",
      "text/plain": [
       "<Figure size 864x504 with 2 Axes>"
      ]
     },
     "metadata": {},
     "output_type": "display_data"
    }
   ],
   "source": [
    "# analysis of time spent on page\n",
    "histogram_boxplot(df, 'Time Spent On Page(Minutes)')"
   ]
  },
  {
   "cell_type": "markdown",
   "id": "badeb8b6",
   "metadata": {},
   "source": [
    "**Obeservations**\n",
    "- Time spent on page follows a normal distribution\n",
    "- Mean and median are roughly equal\n",
    "- No outliers "
   ]
  },
  {
   "cell_type": "markdown",
   "id": "beee26b7",
   "metadata": {},
   "source": [
    "### Group"
   ]
  },
  {
   "cell_type": "code",
   "execution_count": 20,
   "id": "3b4a4d78",
   "metadata": {},
   "outputs": [
    {
     "data": {
      "image/png": "[encoded data removed]",
      "text/plain": [
       "<Figure size 360x360 with 1 Axes>"
      ]
     },
     "metadata": {},
     "output_type": "display_data"
    }
   ],
   "source": [
    "# analysis of Group \n",
    "labeled_barplot(e_news, 'Group', h='Converted', perc=True)"
   ]
  },
  {
   "cell_type": "markdown",
   "id": "a781b952",
   "metadata": {},
   "source": [
    "**Obeservations**\n",
    "- Equal number of control and treatment observations\n",
    "- More treatment group users were converted"
   ]
  },
  {
   "cell_type": "markdown",
   "id": "3c30222e",
   "metadata": {},
   "source": [
    "### Landing Page"
   ]
  },
  {
   "cell_type": "code",
   "execution_count": 21,
   "id": "eb4491bf",
   "metadata": {},
   "outputs": [
    {
     "data": {
      "image/png": "[encoded data removed]",
      "text/plain": [
       "<Figure size 360x360 with 1 Axes>"
      ]
     },
     "metadata": {},
     "output_type": "display_data"
    }
   ],
   "source": [
    "# analysis of landing page\n",
    "labeled_barplot(e_news, 'Landing Page')"
   ]
  },
  {
   "cell_type": "markdown",
   "id": "02e1e6af",
   "metadata": {},
   "source": [
    "**Obeservations**\n",
    "- Equal number of new page and old page observations"
   ]
  },
  {
   "cell_type": "markdown",
   "id": "8d159e70",
   "metadata": {},
   "source": [
    "### Preferred Language"
   ]
  },
  {
   "cell_type": "code",
   "execution_count": 22,
   "id": "4404f751",
   "metadata": {},
   "outputs": [
    {
     "data": {
      "image/png": "[encoded data removed]",
      "text/plain": [
       "<Figure size 432x360 with 1 Axes>"
      ]
     },
     "metadata": {},
     "output_type": "display_data"
    }
   ],
   "source": [
    "# analysis of preferred language\n",
    "labeled_barplot(e_news, 'Preferred Language', h='Converted', perc=True)\n"
   ]
  },
  {
   "cell_type": "markdown",
   "id": "fffab4ac",
   "metadata": {},
   "source": [
    "**Obeservations**\n",
    "- French and Spanish have the most number of observations at 34 each\n",
    "- English also well represented in the dataset at 32 observations"
   ]
  },
  {
   "cell_type": "markdown",
   "id": "d47329cb",
   "metadata": {},
   "source": [
    "### Converted"
   ]
  },
  {
   "cell_type": "code",
   "execution_count": 23,
   "id": "8f18ca1d",
   "metadata": {},
   "outputs": [
    {
     "data": {
      "image/png": "[encoded data removed]",
      "text/plain": [
       "<Figure size 360x360 with 1 Axes>"
      ]
     },
     "metadata": {},
     "output_type": "display_data"
    }
   ],
   "source": [
    "# analysis of converted\n",
    "labeled_barplot(e_news, 'Converted', perc=True, h='Landing Page')"
   ]
  },
  {
   "cell_type": "markdown",
   "id": "fa32027f",
   "metadata": {},
   "source": [
    "**Obeservations**\n",
    "- The majority of all observations resulted in a conversion\n",
    "- 54% of users converted while only 46% did not convert\n",
    "- The new landing page accounted for the greatest percentage of conversions at 33%"
   ]
  },
  {
   "cell_type": "markdown",
   "id": "0103a573",
   "metadata": {
    "id": "fad2de2f"
   },
   "source": [
    "### Bivariate Analysis"
   ]
  },
  {
   "cell_type": "markdown",
   "id": "30a8176c",
   "metadata": {
    "id": "58e9a1d0"
   },
   "source": [
    "### Time vs. Group"
   ]
  },
  {
   "cell_type": "code",
   "execution_count": 24,
   "id": "c1d87a8f",
   "metadata": {},
   "outputs": [
    {
     "data": {
      "image/png": "[encoded data removed]",
      "text/plain": [
       "<Figure size 720x432 with 1 Axes>"
      ]
     },
     "metadata": {},
     "output_type": "display_data"
    }
   ],
   "source": [
    "plt.figure(figsize=(10, 6))\n",
    "sns.swarmplot(y=e_news['Group'], x=e_news['Time Spent On Page(Minutes)'], hue=e_news['Converted'])\n",
    "plt.xlabel('Time Spent On Page(Minutes)', size=15)\n",
    "plt.ylabel('Group', size=15)\n",
    "plt.axvline(x=e_news['Time Spent On Page(Minutes)'].mean(), color='red', linestyle=':')\n",
    "plt.legend(bbox_to_anchor=(1.05, 1), loc=2, borderaxespad=0.);"
   ]
  },
  {
   "cell_type": "markdown",
   "id": "3f51ac06",
   "metadata": {},
   "source": [
    "- Users in the treatment group appear to spend more time on the page and to convert more often, we will check if statistically true below."
   ]
  },
  {
   "cell_type": "markdown",
   "id": "ecfc4925",
   "metadata": {},
   "source": [
    "### Time vs. Landing Page"
   ]
  },
  {
   "cell_type": "code",
   "execution_count": 25,
   "id": "f0526eb5",
   "metadata": {},
   "outputs": [
    {
     "data": {
      "image/png": "[encoded data removed]",
      "text/plain": [
       "<Figure size 720x432 with 1 Axes>"
      ]
     },
     "metadata": {},
     "output_type": "display_data"
    }
   ],
   "source": [
    "plt.figure(figsize=(10, 6))\n",
    "sns.swarmplot(y=e_news['Landing Page'], x=e_news['Time Spent On Page(Minutes)']);\n",
    "plt.xlabel('Time Spent On Page(Minutes)', size=15)\n",
    "plt.ylabel('Landing Page', size=15)\n",
    "plt.axvline(x=e_news['Time Spent On Page(Minutes)'].mean(), color='red', linestyle=':');"
   ]
  },
  {
   "cell_type": "markdown",
   "id": "853cab4c",
   "metadata": {},
   "source": [
    "- As expected this gives use the same info as the graph above"
   ]
  },
  {
   "cell_type": "markdown",
   "id": "c7aa6b9c",
   "metadata": {},
   "source": [
    "### Time vs. Converted"
   ]
  },
  {
   "cell_type": "code",
   "execution_count": 26,
   "id": "8ae74063",
   "metadata": {},
   "outputs": [
    {
     "data": {
      "image/png": "[encoded data removed]",
      "text/plain": [
       "<Figure size 720x432 with 1 Axes>"
      ]
     },
     "metadata": {},
     "output_type": "display_data"
    }
   ],
   "source": [
    "plt.figure(figsize=(10, 6))\n",
    "sns.swarmplot(y=e_news['Converted'], x=e_news['Time Spent On Page(Minutes)'], hue=e_news['Group'])\n",
    "plt.xlabel('Time Spent On Page(Minutes)', size=15)\n",
    "plt.ylabel('Converted', size=15)\n",
    "plt.axvline(x=e_news['Time Spent On Page(Minutes)'].mean(), color='grey', linestyle=':')\n",
    "plt.legend(bbox_to_anchor=(1.05, 1), loc=2, borderaxespad=0.);"
   ]
  },
  {
   "cell_type": "markdown",
   "id": "ea3a87b0",
   "metadata": {},
   "source": [
    "- The majority of observations that did convert spent an above average amount of time on the page."
   ]
  },
  {
   "cell_type": "markdown",
   "id": "46fbb621",
   "metadata": {},
   "source": [
    "### Time vs. Preferred Language"
   ]
  },
  {
   "cell_type": "code",
   "execution_count": 27,
   "id": "3f935afd",
   "metadata": {},
   "outputs": [
    {
     "data": {
      "image/png": "[encoded data removed]",
      "text/plain": [
       "<Figure size 720x432 with 1 Axes>"
      ]
     },
     "metadata": {},
     "output_type": "display_data"
    }
   ],
   "source": [
    "plt.figure(figsize=(10, 6))\n",
    "sns.boxplot(y='Preferred Language', x='Time Spent On Page(Minutes)', data=e_news)\n",
    "plt.xlabel('Time Spent On Page(Minutes)',size=15)\n",
    "plt.ylabel('Preferred Language',size=15);"
   ]
  },
  {
   "cell_type": "markdown",
   "id": "2352803c",
   "metadata": {},
   "source": [
    "- English speakers spend slightly more time on either page on average then both French and Spanish speakers\n",
    "- Majority of all users spend 3.5 - 7 minutes on the page"
   ]
  },
  {
   "cell_type": "markdown",
   "id": "903990ec",
   "metadata": {},
   "source": [
    "### Converted vs. Landing Page/Preferred Language"
   ]
  },
  {
   "cell_type": "code",
   "execution_count": 28,
   "id": "c08632c9",
   "metadata": {},
   "outputs": [
    {
     "data": {
      "image/png": "[encoded data removed]",
      "text/plain": [
       "<Figure size 576x180 with 1 Axes>"
      ]
     },
     "metadata": {},
     "output_type": "display_data"
    }
   ],
   "source": [
    "plt.figure(figsize=(8, 2.5))\n",
    "sns.swarmplot(y=e_news['Converted'], x=e_news['Landing Page'], hue=e_news['Preferred Language'])\n",
    "plt.xlabel('Landing Page', size=15)\n",
    "plt.ylabel('Converted', size=15)\n",
    "plt.axvline(x=e_news['Time Spent On Page(Minutes)'].mean(), color='grey', linestyle=':')\n",
    "plt.legend(bbox_to_anchor=(1.05, 1), loc=2, borderaxespad=0.);"
   ]
  },
  {
   "cell_type": "markdown",
   "id": "0c809bcf",
   "metadata": {},
   "source": [
    "- Of users delivered the new page a greater percentage did convert.\n",
    "- Of users delivered the old page a greater precentage did not convert.\n",
    "- Language preference does not seem to be a dominate factor in conversion on either page."
   ]
  },
  {
   "cell_type": "markdown",
   "id": "c60d9335",
   "metadata": {
    "id": "6970dd99"
   },
   "source": [
    "<h5 style='color:red;font-size:30px;font-family:Georgia;text-align:center;'><strong>&#128269;EDA Observations&#128269;</strong></h5>\n",
    "\n",
    "<div style='font-family:Georgia;color:#000000;font-size:90%;text-align:left;border-radius:10px;border-style:dotted;border-width:5px;border-color:#323232;padding-left:20px;padding-right:20px'>\n",
    "<br>\n",
    "    <p style='text-align:center'><strong>Time Spent On Page - Univariate & Bivariate Analysis</strong></p><br>\n",
    "    <br>\n",
    "    Time spent on page follows a normal distribution with the mean and median being equal and with no outliers.<br>\n",
    "    <br>\n",
    "    <li><strong>Time vs. Group/Converted</strong> - The graphs suggest that users in the 'treatment' group, being delivered the 'new' landing page, spend more time on the page and convert more often.</li>\n",
    "    <li><strong>Time vs. Converted</strong> - The users who converted to subscribers spent an above average amount of time on the page.  This would suggest that as the amount of time spent on the page increases, conversions would increase.</li>\n",
    "    <li><strong>Time vs. Preferred Language</strong> - English speakers spend the most amount of time on the page on average.  Majority of users spend between 3.5 to 7 minuest on the page.</li><br>\n",
    "    <p style='text-align:center'><strong>Univariate Analysis</strong></p><br>\n",
    "    <br>\n",
    "    <strong>Group / Landing Page</strong> - There are an equal number of observations in the control and treatment groups.  The treament group has the greatest percentage of conversions.<br>\n",
    "    <br>\n",
    "     <strong>Converted</strong> - 54% of all observations converted.  The 'new' landing page accounted for the greatest percentage of conversions at 33%.<br>\n",
    "    <br>\n",
    "        <strong>Preferred Language</strong> - All three language preferences are well represented in the dataset.  French and Spanish account for 34 observations each and English comes in a close second with 32 observations.  English speakers were the most likely to convert with a conversion rate of 21% and they spend the greatest amount of time on either page on average.  Preferred Language does not seem to be a dominate factor in determining if a user will convert or not, all languages are fairly equally represented in both conversions and non-conversions on either page.<br>\n",
    "    <br>\n",
    "</div>"
   ]
  },
  {
   "cell_type": "markdown",
   "id": "969cede9",
   "metadata": {
    "id": "e5fdf0c8"
   },
   "source": [
    "### Perform Visual Analysis"
   ]
  },
  {
   "cell_type": "code",
   "execution_count": 29,
   "id": "6944a974",
   "metadata": {
    "id": "6eZJa41eg21n"
   },
   "outputs": [
    {
     "data": {
      "image/png": "[encoded data removed]",
      "text/plain": [
       "<Figure size 432x288 with 1 Axes>"
      ]
     },
     "metadata": {},
     "output_type": "display_data"
    }
   ],
   "source": [
    "sns.boxplot(y='Landing Page', x='Time Spent On Page(Minutes)', data=e_news);"
   ]
  },
  {
   "cell_type": "markdown",
   "id": "bffbc07c",
   "metadata": {
    "id": "56b3dafd"
   },
   "source": [
    "### Define the null and alternate hypotheses"
   ]
  },
  {
   "cell_type": "markdown",
   "id": "7625e9e0",
   "metadata": {
    "id": "d2ac77ef"
   },
   "source": [
    "$H_0: \\mu = 4.53$\n",
    "\n",
    "$H_1: \\mu > 4.53$"
   ]
  },
  {
   "cell_type": "markdown",
   "id": "d829e915",
   "metadata": {
    "id": "c7ee4907"
   },
   "source": [
    "### Select Appropriate test"
   ]
  },
  {
   "cell_type": "markdown",
   "id": "ced984f8",
   "metadata": {
    "id": "2c183cd7"
   },
   "source": [
    "Two Independent Sample T-Test"
   ]
  },
  {
   "cell_type": "markdown",
   "id": "16eecc77",
   "metadata": {
    "id": "3f58c9a7"
   },
   "source": [
    "### Decide the significance level"
   ]
  },
  {
   "cell_type": "markdown",
   "id": "e9e17164",
   "metadata": {
    "id": "92d7d7ee"
   },
   "source": [
    "$\\alpha = 0.05$"
   ]
  },
  {
   "cell_type": "markdown",
   "id": "bc98b526",
   "metadata": {
    "id": "5fed2eac"
   },
   "source": [
    "### Collect and prepare data"
   ]
  },
  {
   "cell_type": "code",
   "execution_count": 30,
   "id": "c249c7d4",
   "metadata": {
    "id": "f5a59495"
   },
   "outputs": [
    {
     "name": "stdout",
     "output_type": "stream",
     "text": [
      "Average time spent on the old page is 4.53\n",
      "Average time spent on the new page is 6.22\n",
      "Standard Deviation of time spent on the old page is 2.58\n",
      "Standard Deviation of time spent on the new page is 1.82\n"
     ]
    }
   ],
   "source": [
    "# get the sample means and standard deviations for old and new pages\n",
    "old_df = e_news[e_news['Landing Page'] == 'old']\n",
    "old_avg = round(old_df['Time Spent On Page(Minutes)'].mean(), 2)\n",
    "print(f'Average time spent on the old page is {old_avg}')\n",
    "\n",
    "new_df = e_news[e_news['Landing Page'] == 'new']\n",
    "new_avg = round(new_df['Time Spent On Page(Minutes)'].mean(), 2)\n",
    "print(f'Average time spent on the new page is {new_avg}')\n",
    "\n",
    "old_std = round(old_df['Time Spent On Page(Minutes)'].std(), 2)\n",
    "print(f'Standard Deviation of time spent on the old page is {old_std}')\n",
    "\n",
    "new_std = round(new_df['Time Spent On Page(Minutes)'].std(), 2)\n",
    "print(f'Standard Deviation of time spent on the new page is {new_std}')"
   ]
  },
  {
   "cell_type": "markdown",
   "id": "31c27b6a",
   "metadata": {
    "id": "f5c5258d"
   },
   "source": [
    "### Calculate the p-value"
   ]
  },
  {
   "cell_type": "code",
   "execution_count": 44,
   "id": "0fb40a95",
   "metadata": {
    "id": "fac8594a"
   },
   "outputs": [
    {
     "name": "stdout",
     "output_type": "stream",
     "text": [
      "The p_value is 0.0001392381225166549\n"
     ]
    }
   ],
   "source": [
    "# import the necessary test and get pvalue\n",
    "from scipy.stats import ttest_ind\n",
    "\n",
    "test_stat, p_value = ttest_ind(new_df['Time Spent On Page(Minutes)'], old_df['Time Spent On Page(Minutes)'], equal_var=False, alternative='greater')\n",
    "print(f'The p_value is {p_value}')"
   ]
  },
  {
   "cell_type": "markdown",
   "id": "573ee937",
   "metadata": {
    "id": "359b12f8"
   },
   "source": [
    "### Compare the p-value with $\\alpha$"
   ]
  },
  {
   "cell_type": "markdown",
   "id": "69984fc4",
   "metadata": {
    "id": "7be47289"
   },
   "source": [
    "The p-value is less than the level of significance."
   ]
  },
  {
   "cell_type": "markdown",
   "id": "9768cc4f",
   "metadata": {
    "id": "d9affc84"
   },
   "source": [
    "### Draw inference"
   ]
  },
  {
   "cell_type": "markdown",
   "id": "27f39acc",
   "metadata": {
    "id": "6b16dd4b"
   },
   "source": [
    "We reject the null hypothesis and say that we have sufficient statistical evidence to conclude that users spend more time on the new landing page."
   ]
  },
  {
   "cell_type": "markdown",
   "id": "adf433d7",
   "metadata": {
    "id": "b7f52898"
   },
   "source": [
    "### Define Null and Alternate Hypothesis"
   ]
  },
  {
   "cell_type": "markdown",
   "id": "89884221",
   "metadata": {
    "id": "d2ac77ef"
   },
   "source": [
    "$H_0:$ The conversion rate for the new page and old page are equal.\n",
    "\n",
    "$H_1:$ The conversion rate for the new page is greater than that of the old page."
   ]
  },
  {
   "cell_type": "markdown",
   "id": "c5c3e23b",
   "metadata": {
    "id": "c7ee4907"
   },
   "source": [
    "### Select Appropriate test"
   ]
  },
  {
   "cell_type": "markdown",
   "id": "de2f751d",
   "metadata": {},
   "source": [
    "Two Sample Z Test"
   ]
  },
  {
   "cell_type": "markdown",
   "id": "7cd03249",
   "metadata": {
    "id": "3f58c9a7"
   },
   "source": [
    "### Decide the significance level"
   ]
  },
  {
   "cell_type": "markdown",
   "id": "e2d7ddf8",
   "metadata": {
    "id": "92d7d7ee"
   },
   "source": [
    "$\\alpha = 0.05$"
   ]
  },
  {
   "cell_type": "markdown",
   "id": "2d01549a",
   "metadata": {
    "id": "5fed2eac"
   },
   "source": [
    "### Collect and prepare data"
   ]
  },
  {
   "cell_type": "code",
   "execution_count": 32,
   "id": "5ed15ce8",
   "metadata": {},
   "outputs": [
    {
     "name": "stdout",
     "output_type": "stream",
     "text": [
      "The number of conversions on the old landing page 21\n",
      "The number of conversions on the new landing page 33\n",
      "Total number of observations for new landing page is 50 and for the old landing page is 50\n"
     ]
    }
   ],
   "source": [
    "# number of old landing page conversions\n",
    "old_conversions = old_df['Converted'].value_counts()['yes']\n",
    "# number of new landing page conversions\n",
    "new_conversions = new_df['Converted'].value_counts()['yes']\n",
    "print(f'The number of conversions on the old landing page {old_conversions}')\n",
    "print(f'The number of conversions on the new landing page {new_conversions}')\n",
    "print(f'Total number of observations for new landing page is {new_df.shape[0]} and for the old landing page is {old_df.shape[0]}')"
   ]
  },
  {
   "cell_type": "code",
   "execution_count": 33,
   "id": "9dca45dc",
   "metadata": {},
   "outputs": [
    {
     "name": "stdout",
     "output_type": "stream",
     "text": [
      "The proportion of users converted on the new landing page is 0.66\n",
      "The proportion of users converted on the old landing page is 0.42\n"
     ]
    }
   ],
   "source": [
    "print(f'The proportion of users converted on the new landing page is {round(33/50, 2)}')\n",
    "print(f'The proportion of users converted on the old landing page is {round(21/50, 2)}')"
   ]
  },
  {
   "cell_type": "markdown",
   "id": "cb5217a6",
   "metadata": {},
   "source": [
    "- The proportions indicate that the new page has a greater conversion rate.  Now we conduct the test to see if this difference is significant."
   ]
  },
  {
   "cell_type": "markdown",
   "id": "e88abd3e",
   "metadata": {
    "id": "f5c5258d"
   },
   "source": [
    "### Calculate the p-value"
   ]
  },
  {
   "cell_type": "code",
   "execution_count": 34,
   "id": "7821dbab",
   "metadata": {},
   "outputs": [
    {
     "name": "stdout",
     "output_type": "stream",
     "text": [
      "The p-value is 0.008026308204056278\n"
     ]
    }
   ],
   "source": [
    "# import the required function\n",
    "from statsmodels.stats.proportion import proportions_ztest\n",
    "\n",
    "# find the p-value using the proportions ztest\n",
    "stat, pval = proportions_ztest([new_conversions, old_conversions] , [new_df.shape[0], old_df.shape[0]], alternative = 'larger')\n",
    "\n",
    "# print the p-value\n",
    "print(f'The p-value is {pval}')"
   ]
  },
  {
   "cell_type": "markdown",
   "id": "d80bd63b",
   "metadata": {
    "id": "359b12f8"
   },
   "source": [
    "### Compare the p-value with $\\alpha$"
   ]
  },
  {
   "cell_type": "markdown",
   "id": "e0fe9b2b",
   "metadata": {},
   "source": [
    "- The p-value is less than the level of significance."
   ]
  },
  {
   "cell_type": "markdown",
   "id": "dbffb8a5",
   "metadata": {
    "id": "d9affc84"
   },
   "source": [
    "### Draw inference"
   ]
  },
  {
   "cell_type": "markdown",
   "id": "17f3c1d1",
   "metadata": {},
   "source": [
    "We reject the null hypothesis and conclude that there is enough statisitical evidence to say that the conversion rate for the new page is greater than the conversion rate of the old page."
   ]
  },
  {
   "cell_type": "markdown",
   "id": "0fb54931",
   "metadata": {
    "id": "d49bfa2d"
   },
   "source": [
    "## 4. Is the conversion and preferred language are independent or related? (10 Marks)"
   ]
  },
  {
   "cell_type": "markdown",
   "id": "eb0ac07c",
   "metadata": {
    "id": "b7f52898"
   },
   "source": [
    "### Define Null and Alternate Hypothesis"
   ]
  },
  {
   "cell_type": "markdown",
   "id": "2aa5131b",
   "metadata": {
    "id": "d2ac77ef"
   },
   "source": [
    "$H_0:$ Conversion is independent of preferred language.\n",
    "\n",
    "$H_1:$ Conversion depends on preferred language."
   ]
  },
  {
   "cell_type": "markdown",
   "id": "56680730",
   "metadata": {
    "id": "b0e63f17"
   },
   "source": [
    "### Select the appropriate test"
   ]
  },
  {
   "cell_type": "markdown",
   "id": "4d53224a",
   "metadata": {},
   "source": [
    "Chi-square Test of Independence"
   ]
  },
  {
   "cell_type": "markdown",
   "id": "a1678aa2",
   "metadata": {},
   "source": [
    "### Prepare the Data"
   ]
  },
  {
   "cell_type": "code",
   "execution_count": 35,
   "id": "c5b03507",
   "metadata": {},
   "outputs": [
    {
     "data": {
      "text/plain": [
       "French     34\n",
       "Spanish    34\n",
       "English    32\n",
       "Name: Preferred Language, dtype: int64"
      ]
     },
     "execution_count": 35,
     "metadata": {},
     "output_type": "execute_result"
    }
   ],
   "source": [
    "# get the preferred language counts to check against the contingency table\n",
    "e_news['Preferred Language'].value_counts()"
   ]
  },
  {
   "cell_type": "code",
   "execution_count": 36,
   "id": "f7cdcce1",
   "metadata": {},
   "outputs": [
    {
     "data": {
      "text/plain": [
       "Preferred Language     \n",
       "English             yes    21\n",
       "                    no     11\n",
       "French              no     19\n",
       "                    yes    15\n",
       "Spanish             yes    18\n",
       "                    no     16\n",
       "Name: Converted, dtype: int64"
      ]
     },
     "execution_count": 36,
     "metadata": {},
     "output_type": "execute_result"
    }
   ],
   "source": [
    "# get the preferred language and converted counts to check against the contingency table\n",
    "e_news.groupby(['Preferred Language'])['Converted'].value_counts()"
   ]
  },
  {
   "cell_type": "code",
   "execution_count": 37,
   "id": "e73ba38b",
   "metadata": {},
   "outputs": [
    {
     "data": {
      "text/html": [
       "<div>\n",
       "<style scoped>\n",
       "    .dataframe tbody tr th:only-of-type {\n",
       "        vertical-align: middle;\n",
       "    }\n",
       "\n",
       "    .dataframe tbody tr th {\n",
       "        vertical-align: top;\n",
       "    }\n",
       "\n",
       "    .dataframe thead th {\n",
       "        text-align: right;\n",
       "    }\n",
       "</style>\n",
       "<table border=\"1\" class=\"dataframe\">\n",
       "  <thead>\n",
       "    <tr style=\"text-align: right;\">\n",
       "      <th>Converted</th>\n",
       "      <th>no</th>\n",
       "      <th>yes</th>\n",
       "    </tr>\n",
       "    <tr>\n",
       "      <th>Preferred Language</th>\n",
       "      <th></th>\n",
       "      <th></th>\n",
       "    </tr>\n",
       "  </thead>\n",
       "  <tbody>\n",
       "    <tr>\n",
       "      <th>English</th>\n",
       "      <td>11</td>\n",
       "      <td>21</td>\n",
       "    </tr>\n",
       "    <tr>\n",
       "      <th>French</th>\n",
       "      <td>19</td>\n",
       "      <td>15</td>\n",
       "    </tr>\n",
       "    <tr>\n",
       "      <th>Spanish</th>\n",
       "      <td>16</td>\n",
       "      <td>18</td>\n",
       "    </tr>\n",
       "  </tbody>\n",
       "</table>\n",
       "</div>"
      ],
      "text/plain": [
       "Converted           no  yes\n",
       "Preferred Language         \n",
       "English             11   21\n",
       "French              19   15\n",
       "Spanish             16   18"
      ]
     },
     "execution_count": 37,
     "metadata": {},
     "output_type": "execute_result"
    }
   ],
   "source": [
    "# build the contingency table\n",
    "con_table = pd.crosstab(e_news['Preferred Language'], e_news['Converted'])\n",
    "con_table"
   ]
  },
  {
   "cell_type": "markdown",
   "id": "1bcfa9d6",
   "metadata": {
    "id": "f5c5258d"
   },
   "source": [
    "### Calculate the p-value"
   ]
  },
  {
   "cell_type": "code",
   "execution_count": 38,
   "id": "b0df843e",
   "metadata": {},
   "outputs": [
    {
     "name": "stdout",
     "output_type": "stream",
     "text": [
      "0.2129888748754345\n"
     ]
    }
   ],
   "source": [
    "from scipy.stats import chi2_contingency   # For Chi-Square test \n",
    "\n",
    "chi2, pval, dof, exp_freq = chi2_contingency(con_table)\n",
    "print(pval)"
   ]
  },
  {
   "cell_type": "markdown",
   "id": "2c04953d",
   "metadata": {
    "id": "359b12f8"
   },
   "source": [
    "### Compare the p-value with $\\alpha$"
   ]
  },
  {
   "cell_type": "markdown",
   "id": "82f9471d",
   "metadata": {},
   "source": [
    "The p-value is greater than the level of significance."
   ]
  },
  {
   "cell_type": "markdown",
   "id": "b25b3ec4",
   "metadata": {
    "id": "d9affc84"
   },
   "source": [
    "### Draw inference"
   ]
  },
  {
   "cell_type": "markdown",
   "id": "7a8b4710",
   "metadata": {},
   "source": [
    "We fail to reject the null hypothesis and say that conversion is independent of preferred language."
   ]
  },
  {
   "cell_type": "markdown",
   "id": "b55f2d2e",
   "metadata": {
    "id": "8d585a90"
   },
   "source": [
    "## 5. Is the time spent on the new page same for the different language users? (10 Marks)"
   ]
  },
  {
   "cell_type": "markdown",
   "id": "5a7affbe",
   "metadata": {
    "id": "b7f52898"
   },
   "source": [
    "### Define Null and Alternate Hypothesis"
   ]
  },
  {
   "cell_type": "markdown",
   "id": "475876fd",
   "metadata": {
    "id": "d2ac77ef"
   },
   "source": [
    "$H_0: \\mu_1 = \\mu_2 = \\mu_3$\n",
    "\n",
    "$H_1:$ At least one of the average time spent for each language is unequal."
   ]
  },
  {
   "cell_type": "markdown",
   "id": "11449c6d",
   "metadata": {
    "id": "b422f395"
   },
   "source": [
    "Let $\\mu_1$, $\\mu_2$, $\\mu_3$ be the means of average time spent for language preferred English, Spanish, French respectively."
   ]
  },
  {
   "cell_type": "markdown",
   "id": "d191d17b",
   "metadata": {
    "id": "b0e63f17"
   },
   "source": [
    "### Select the appropriate test"
   ]
  },
  {
   "cell_type": "markdown",
   "id": "bab1b039",
   "metadata": {},
   "source": [
    "One-Way ANOVA Test"
   ]
  },
  {
   "cell_type": "markdown",
   "id": "2ba1f755",
   "metadata": {},
   "source": [
    "### Prepare the Data"
   ]
  },
  {
   "cell_type": "code",
   "execution_count": 39,
   "id": "c792ed10",
   "metadata": {},
   "outputs": [
    {
     "name": "stdout",
     "output_type": "stream",
     "text": [
      "Preferred Language\n",
      "English    6.663750\n",
      "French     6.196471\n",
      "Spanish    5.835294\n",
      "Name: Time Spent On Page(Minutes), dtype: float64\n"
     ]
    },
    {
     "data": {
      "image/png": "[encoded data removed]",
      "text/plain": [
       "<Figure size 432x432 with 1 Axes>"
      ]
     },
     "metadata": {},
     "output_type": "display_data"
    }
   ],
   "source": [
    "# mean of time spent on new page by each language\n",
    "new_page_df = e_news[e_news['Landing Page']=='new']\n",
    "print(new_page_df.groupby('Preferred Language')['Time Spent On Page(Minutes)'].mean())\n",
    "\n",
    "# draw the boxplot\n",
    "fig, ax = plt.subplots(figsize=(6,6))\n",
    "a = sns.boxplot(data=new_page_df, y='Preferred Language', x='Time Spent On Page(Minutes)', showmeans=True)\n",
    "a.set_title('Time spent on new page by language preferred(3 levels)', fontsize=15)\n",
    "plt.show()"
   ]
  },
  {
   "cell_type": "markdown",
   "id": "d30a625a",
   "metadata": {},
   "source": [
    "Normality and equality of variance assumptions need to be checked.\n",
    "\n",
    "- Shapiro-Wilkes test for normality\n",
    "- Levene test for equality fo variance"
   ]
  },
  {
   "cell_type": "markdown",
   "id": "1d860e67",
   "metadata": {},
   "source": [
    "##### Shapiro-Wilkes Test"
   ]
  },
  {
   "cell_type": "markdown",
   "id": "c50c154f",
   "metadata": {},
   "source": [
    "$H_0:$ Time spent on page follows a normal distribution\n",
    "\n",
    "$H_1:$ Time spent on page does not follow  a normal distribution"
   ]
  },
  {
   "cell_type": "code",
   "execution_count": 40,
   "id": "5a1e08b0",
   "metadata": {},
   "outputs": [
    {
     "name": "stdout",
     "output_type": "stream",
     "text": [
      "The pvalue is 0.8040016293525696\n"
     ]
    }
   ],
   "source": [
    "from scipy import stats\n",
    "\n",
    "# apply the test and find the p-value\n",
    "w, pval = stats.shapiro(new_page_df['Time Spent On Page(Minutes)'])\n",
    "print(f'The pvalue is {pval}')"
   ]
  },
  {
   "cell_type": "markdown",
   "id": "359be113",
   "metadata": {},
   "source": [
    "Since the p-value is very large we fail to reject the null hypothesis that time spent on page follows a normal distribution."
   ]
  },
  {
   "cell_type": "markdown",
   "id": "54bce26d",
   "metadata": {},
   "source": [
    "##### Levene's Test"
   ]
  },
  {
   "cell_type": "markdown",
   "id": "817074d5",
   "metadata": {},
   "source": [
    "$H_0:$ All populations variances are equal\n",
    "\n",
    "$H_1:$ At least one variance is different from the rest"
   ]
  },
  {
   "cell_type": "code",
   "execution_count": 41,
   "id": "93cbff3f",
   "metadata": {},
   "outputs": [
    {
     "name": "stdout",
     "output_type": "stream",
     "text": [
      "The p-value is 0.46711357711340173\n"
     ]
    }
   ],
   "source": [
    "# import required test\n",
    "from scipy.stats import levene\n",
    "\n",
    "statistic, p_val = levene(new_page_df['Time Spent On Page(Minutes)'][new_page_df['Preferred Language']=='English'],\n",
    "                        new_page_df['Time Spent On Page(Minutes)'][new_page_df['Preferred Language']=='Spanish'],\n",
    "                        new_page_df['Time Spent On Page(Minutes)'][new_page_df['Preferred Language']=='French'])\n",
    "\n",
    "# print the p-value\n",
    "print(f'The p-value is {p_val}')"
   ]
  },
  {
   "cell_type": "markdown",
   "id": "adcd8245",
   "metadata": {},
   "source": [
    "The p-value is larger than level of significance therefore we fail to reject the null hypothesis that all population variances are equal.\n",
    "\n",
    "The assumptions are satisfied.  Samples are independent random samples, populations are normally distributed and population variances are equal."
   ]
  },
  {
   "cell_type": "markdown",
   "id": "6d263327",
   "metadata": {
    "id": "f5c5258d"
   },
   "source": [
    "### Calculate the p-value"
   ]
  },
  {
   "cell_type": "code",
   "execution_count": 42,
   "id": "689c5679",
   "metadata": {},
   "outputs": [
    {
     "name": "stdout",
     "output_type": "stream",
     "text": [
      "The p_value is 0.43204138694325955\n"
     ]
    }
   ],
   "source": [
    "# import the required function\n",
    "from scipy.stats import f_oneway\n",
    "\n",
    "# perform one way anova test\n",
    "test_stat, p_value = f_oneway(new_page_df.loc[new_page_df['Preferred Language']=='English', 'Time Spent On Page(Minutes)'],\n",
    "                             new_page_df.loc[new_page_df['Preferred Language']=='Spanish', 'Time Spent On Page(Minutes)'],\n",
    "                             new_page_df.loc[new_page_df['Preferred Language']=='French', 'Time Spent On Page(Minutes)'])\n",
    "print(f'The p_value is {p_value}')"
   ]
  },
  {
   "cell_type": "markdown",
   "id": "194169c0",
   "metadata": {
    "id": "359b12f8"
   },
   "source": [
    "### Compare the p-value with $\\alpha$"
   ]
  },
  {
   "cell_type": "markdown",
   "id": "f4d952cc",
   "metadata": {},
   "source": [
    "The p_value is larger then our level of significance."
   ]
  },
  {
   "cell_type": "markdown",
   "id": "0aa359a3",
   "metadata": {
    "id": "d9affc84"
   },
   "source": [
    "### Draw inference"
   ]
  },
  {
   "cell_type": "markdown",
   "id": "6731da26",
   "metadata": {},
   "source": [
    "We fail to reject the null hypothesis and say that the average time spent on the new page is the same for all language users."
   ]
  },
  {
   "cell_type": "markdown",
   "id": "2f48c3d9",
   "metadata": {
    "id": "6970dd99"
   },
   "source": [
    "<h5 style='color:red;font-size:30px;font-family:Georgia;text-align:center;'><strong>&#127774;Conclusions & Business Recommendations&#127774;</strong></h5>\n",
    "\n",
    "<div style='font-family:Georgia;color:#000000;text-align:center;border-radius:10px;border-style:dotted;border-width:5px;border-color:#323232;padding-left:20px;padding-right:20px'>\n",
    "<br>\n",
    "    <p style='text-align:center'><strong>Do users spend more time on the new landing page?</strong></p><br>\n",
    "    There is not enough evidence to prove that users spend more time on the new landing page.  Even though we failed to prove statistically that users spend more time on the new landing page, it would be my recommendation to take further sampling.  The raw average between the time spent on the two pages differs significantly enough to warrant more sampling.  The new landing page produced an additional 1:29 of screen time on average.  If users spending more time on the landing page is a goal, an additional sample might bring that average down closer to the old landing page while still being a significant increase and statistically provable.\n",
    "    <br>\n",
    "    <br>\n",
    "    <p style='text-align:center'><strong>Is the conversion rate for the new landing page greater than for the old landing page?</strong></p><br>\n",
    "    There is in fact enough statistical evidence to say that the conversion rate for the new landing page is greater than that of the old landing page.  The new landing page also has an above average time spent on the page.  Futher analysis will need to be done with more sampling to say if the increased stickiness of the new page is the main factor driving user conversion or if there are other aspects of the updated page that account for the increased conversion.\n",
    "    <br>\n",
    "    <br>\n",
    "    <p style='text-align:center'><strong>Are conversion and language preferred independent or related?</strong></p><br>\n",
    "    Our testing confirms that conversion and language preferred are independent of each other.  Language preference does not seem to play a significant role in conversion.  English speakers edge out the other languages being the most likely to convert.  Explore why French and Spanish language preferences result in a lower conversion rate. \n",
    "    <br>\n",
    "    <br>\n",
    "    <p style='text-align:center'><strong>Is time spent on the new page equal for different language users?</strong></p><br>\n",
    "    Time spent on the new page is equal for all language users.  Interestingly, Spanish has a tighter interquartile and overall range of time spent on the page.  Perhaps there is something about the Spanish page that is resulting in this difference that needs to be explored.<br>\n",
    "    <br>\n",
    "</div>"
   ]
  }
 ],
 "metadata": {
  "colab": {
   "collapsed_sections": [],
   "name": "ENews_Express_Learner_Notebook[Full Code Version].ipynb",
   "provenance": []
  },
  "kernelspec": {
   "display_name": "Python 3",
   "language": "python",
   "name": "python3"
  },
  "language_info": {
   "codemirror_mode": {
    "name": "ipython",
    "version": 3
   },
   "file_extension": ".py",
   "mimetype": "text/x-python",
   "name": "python",
   "nbconvert_exporter": "python",
   "pygments_lexer": "ipython3",
   "version": "3.8.10"
  }
 },
 "nbformat": 4,
 "nbformat_minor": 5
}
